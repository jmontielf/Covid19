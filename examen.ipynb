{
 "cells": [
  {
   "cell_type": "markdown",
   "source": [
    "### Por realizar:\n",
    "\n",
    "* Limpiar data\n",
    "* Verificar sintomas y outcome.\n",
    "* Cuanta gente existe por grupo etario\n",
    "* Mostrar sintomás que más se repite\n",
    "* Ver modelo de regresión linear simple para aplicar acá\n"
   ],
   "metadata": {
    "collapsed": false,
    "pycharm": {
     "name": "#%% md\n"
    }
   }
  },
  {
   "cell_type": "markdown",
   "source": [
    "## Análisis de datos COVID-19\n",
    "\n",
    "### Objetivo:\n",
    "#### Identificación de individuos que presentan síntomas y características específicas, padecen la enfermedad COVID-19 y están con riesgo de muerte.\n",
    "\n",
    "#### Se utilizarán herramientas de análisis de datos con Python, Pandas, Matplotlib, numpy y scikit-learn."
   ],
   "metadata": {
    "collapsed": false
   }
  },
  {
   "cell_type": "code",
   "execution_count": 4,
   "metadata": {
    "collapsed": true,
    "pycharm": {
     "is_executing": false
    }
   },
   "outputs": [],
   "source": [
    "# Importamos las librerías necesarias para el análisis de datos.\n",
    "# Pandas para el manejo y tratamiento de los datos\n",
    "# Numpy para poder trabajar con matrices multidimensionales\n",
    "# Matplotlib para visualización de data\n",
    "# Seaborn para visualización de data, basado en matplotlib\n",
    "# Re para expresiones regulares\n",
    "\n",
    "import matplotlib.pyplot as plt\n",
    "import seaborn as sns\n",
    "import pandas as pd\n",
    "import numpy as np\n",
    "import re\n",
    "\n",
    "# Se indica a matplotlib mostrar el gráfico en la celda a ejecutar y guarda el gráfico en el notebook.\n",
    "%matplotlib inline\n",
    "\n",
    "# Otros\n",
    "import glob, os\n"
   ]
  },
  {
   "cell_type": "markdown",
   "source": [
    "### 0) Preparación de la información y data\n",
    "#### Importaremos el dataset "
   ],
   "metadata": {
    "collapsed": false,
    "pycharm": {
     "name": "#%% md\n"
    }
   }
  },
  {
   "cell_type": "code",
   "execution_count": 5,
   "outputs": [
    {
     "name": "stderr",
     "text": [
      "/usr/local/lib/python3.7/site-packages/IPython/core/interactiveshell.py:3063: DtypeWarning: Columns (1,2,9,10,12,13,14,15,16,17,19,21,22,23,24,25,26,27,31,32) have mixed types.Specify dtype option on import or set low_memory=False.\n",
      "  interactivity=interactivity, compiler=compiler, result=result)\n"
     ],
     "output_type": "stream"
    }
   ],
   "source": [
    "# Importamos el archivo CSV como un DF\n",
    "df_full = pd.read_csv('latestdata.csv')\n"
   ],
   "metadata": {
    "collapsed": false,
    "pycharm": {
     "name": "#%%\n",
     "is_executing": false
    }
   }
  },
  {
   "cell_type": "code",
   "source": [
    "# Creamos un nuevo DF con las filas donde las edades no son nulos\n",
    "df_preProcessing = df_full[df_full['age'].notna()]\n"
   ],
   "metadata": {
    "collapsed": false,
    "pycharm": {
     "name": "#%%\n",
     "is_executing": false
    }
   },
   "execution_count": 6,
   "outputs": []
  },
  {
   "cell_type": "code",
   "execution_count": 7,
   "outputs": [],
   "source": [
    "# Creamos un nuevo DF solo con las columnas que nos sirven y fueron previamente limpiadas por edad.\n",
    "df_clean = df_preProcessing[[\n",
    "     'age', 'sex', 'date_onset_symptoms', \n",
    "     'date_admission_hospital', 'date_confirmation', \n",
    "     'symptoms', 'chronic_disease_binary', 'chronic_disease', \n",
    "     'source', 'outcome', 'date_death_or_discharge', 'notes_for_discussion' \n",
    "     ]]\n"
   ],
   "metadata": {
    "collapsed": false,
    "pycharm": {
     "name": "#%%\n",
     "is_executing": false
    }
   }
  },
  {
   "cell_type": "code",
   "execution_count": 8,
   "outputs": [
    {
     "name": "stdout",
     "text": [
      "age , 0\n",
      "sex , 1756\n",
      "date_onset_symptoms , 78534\n",
      "date_admission_hospital , 240989\n",
      "date_confirmation , 218\n",
      "symptoms , 241499\n",
      "chronic_disease_binary , 0\n",
      "chronic_disease , 242915\n",
      "source , 154102\n",
      "outcome , 240552\n",
      "date_death_or_discharge , 242588\n",
      "notes_for_discussion , 242827\n"
     ],
     "output_type": "stream"
    }
   ],
   "source": [
    "# Analizamos las filas con datos nulos que quedan en el dataset, la edad es 0 ya que eliminamos todos los registros con edad null\n",
    "obj = df_clean.isnull().sum()\n",
    "for key, value in obj.iteritems():\n",
    "    print(key, \",\", value)"
   ],
   "metadata": {
    "collapsed": false,
    "pycharm": {
     "name": "#%%\n",
     "is_executing": false
    }
   }
  },
  {
   "cell_type": "markdown",
   "source": [
    "### 1) Análisis, limpieza y agrupación de datos por Edad\n"
   ],
   "metadata": {
    "collapsed": false
   }
  },
  {
   "cell_type": "code",
   "source": [
    "# Cuenta total de registros por edad\n",
    "ageTotalCount = df_clean.age.count()\n",
    "print(\"Existen {} registros de edad\".format(ageTotalCount))\n"
   ],
   "metadata": {
    "collapsed": false,
    "pycharm": {
     "name": "#%% \n",
     "is_executing": false
    }
   },
   "execution_count": 9,
   "outputs": [
    {
     "name": "stdout",
     "text": [
      "Existen 243077 registros de edad\n"
     ],
     "output_type": "stream"
    }
   ]
  },
  {
   "cell_type": "code",
   "execution_count": 10,
   "outputs": [
    {
     "name": "stdout",
     "text": [
      "ver edad\n"
     ],
     "output_type": "stream"
    }
   ],
   "source": [
    "# Visualización de formatos de edad\n",
    "# df_clean.age.unique()\n",
    "print(\"ver edad\")"
   ],
   "metadata": {
    "collapsed": false,
    "pycharm": {
     "name": "#%%\n",
     "is_executing": false
    }
   }
  },
  {
   "cell_type": "code",
   "execution_count": 70,
   "outputs": [
    {
     "data": {
      "text/plain": "   age     sex date_onset_symptoms date_admission_hospital date_confirmation  \\\n1   78    male                 NaN                     NaN        21.02.2020   \n2   61  female                 NaN                     NaN        14.02.2020   \n27  66    male                 NaN                     NaN        07.02.2020   \n28  27  female                 NaN                     NaN        07.02.2020   \n29  17    male                 NaN                     NaN        07.02.2020   \n\n   symptoms  chronic_disease_binary chronic_disease  \\\n1       NaN                   False             NaN   \n2       NaN                   False             NaN   \n27      NaN                   False             NaN   \n28      NaN                   False             NaN   \n29      NaN                   False             NaN   \n\n                                               source    outcome  \\\n1   https://www.corriere.it/cronache/20_febbraio_2...      death   \n2   https://www.channelnewsasia.com/news/singapore...  discharge   \n27         https://m.weibo.cn/detail/4469604653292027        NaN   \n28         https://m.weibo.cn/detail/4469604653292027        NaN   \n29         https://m.weibo.cn/detail/4469604653292027        NaN   \n\n   date_death_or_discharge                               notes_for_discussion  \n1               22.02.2020                                                NaN  \n2               17.02.2020                                                NaN  \n27                     NaN  https://www.google.com/maps/place/Zhenlai+Coun...  \n28                     NaN                                                NaN  \n29                     NaN                                                NaN  ",
      "text/html": "<div>\n<style scoped>\n    .dataframe tbody tr th:only-of-type {\n        vertical-align: middle;\n    }\n\n    .dataframe tbody tr th {\n        vertical-align: top;\n    }\n\n    .dataframe thead th {\n        text-align: right;\n    }\n</style>\n<table border=\"1\" class=\"dataframe\">\n  <thead>\n    <tr style=\"text-align: right;\">\n      <th></th>\n      <th>age</th>\n      <th>sex</th>\n      <th>date_onset_symptoms</th>\n      <th>date_admission_hospital</th>\n      <th>date_confirmation</th>\n      <th>symptoms</th>\n      <th>chronic_disease_binary</th>\n      <th>chronic_disease</th>\n      <th>source</th>\n      <th>outcome</th>\n      <th>date_death_or_discharge</th>\n      <th>notes_for_discussion</th>\n    </tr>\n  </thead>\n  <tbody>\n    <tr>\n      <th>1</th>\n      <td>78</td>\n      <td>male</td>\n      <td>NaN</td>\n      <td>NaN</td>\n      <td>21.02.2020</td>\n      <td>NaN</td>\n      <td>False</td>\n      <td>NaN</td>\n      <td>https://www.corriere.it/cronache/20_febbraio_2...</td>\n      <td>death</td>\n      <td>22.02.2020</td>\n      <td>NaN</td>\n    </tr>\n    <tr>\n      <th>2</th>\n      <td>61</td>\n      <td>female</td>\n      <td>NaN</td>\n      <td>NaN</td>\n      <td>14.02.2020</td>\n      <td>NaN</td>\n      <td>False</td>\n      <td>NaN</td>\n      <td>https://www.channelnewsasia.com/news/singapore...</td>\n      <td>discharge</td>\n      <td>17.02.2020</td>\n      <td>NaN</td>\n    </tr>\n    <tr>\n      <th>27</th>\n      <td>66</td>\n      <td>male</td>\n      <td>NaN</td>\n      <td>NaN</td>\n      <td>07.02.2020</td>\n      <td>NaN</td>\n      <td>False</td>\n      <td>NaN</td>\n      <td>https://m.weibo.cn/detail/4469604653292027</td>\n      <td>NaN</td>\n      <td>NaN</td>\n      <td>https://www.google.com/maps/place/Zhenlai+Coun...</td>\n    </tr>\n    <tr>\n      <th>28</th>\n      <td>27</td>\n      <td>female</td>\n      <td>NaN</td>\n      <td>NaN</td>\n      <td>07.02.2020</td>\n      <td>NaN</td>\n      <td>False</td>\n      <td>NaN</td>\n      <td>https://m.weibo.cn/detail/4469604653292027</td>\n      <td>NaN</td>\n      <td>NaN</td>\n      <td>NaN</td>\n    </tr>\n    <tr>\n      <th>29</th>\n      <td>17</td>\n      <td>male</td>\n      <td>NaN</td>\n      <td>NaN</td>\n      <td>07.02.2020</td>\n      <td>NaN</td>\n      <td>False</td>\n      <td>NaN</td>\n      <td>https://m.weibo.cn/detail/4469604653292027</td>\n      <td>NaN</td>\n      <td>NaN</td>\n      <td>NaN</td>\n    </tr>\n  </tbody>\n</table>\n</div>"
     },
     "metadata": {},
     "output_type": "execute_result",
     "execution_count": 70
    }
   ],
   "source": [
    "# Visualización del DF sin nulos en la edad\n",
    "df_clean.head()\n"
   ],
   "metadata": {
    "collapsed": false,
    "pycharm": {
     "name": "#%%\n",
     "is_executing": false
    }
   }
  },
  {
   "cell_type": "code",
   "execution_count": 79,
   "outputs": [
    {
     "data": {
      "text/plain": "age                        243077\nsex                        241321\ndate_onset_symptoms        164543\ndate_admission_hospital      2088\ndate_confirmation          242859\nsymptoms                     1578\nchronic_disease_binary     243077\nchronic_disease               162\nsource                      88975\noutcome                      2525\ndate_death_or_discharge       489\nnotes_for_discussion          250\ndtype: int64"
     },
     "metadata": {},
     "output_type": "execute_result",
     "execution_count": 79
    }
   ],
   "source": [
    "# Copia del DF sin nulos para modificarlo y poder trabajar las edades\n",
    "df_test = df_clean\n",
    "\n",
    "df_test.count()"
   ],
   "metadata": {
    "collapsed": false,
    "pycharm": {
     "name": "#%% \n",
     "is_executing": false
    }
   }
  },
  {
   "cell_type": "markdown",
   "source": [
    "### Implementar Regex para estandarizar la data\n",
    "#### Usar RegEX para validar los siguientes casos:\n",
    "\n",
    "* Numeros enteros, guardar como enteros         ^\\d\\d?$\n",
    "* Rango de edades, obtener la media y guardar   ^\\d\\d?[-]\\d\\d?$\n",
    "* Numeros decimales, redondear y guardar        ^\\d(\\.\\d+)?$\n",
    "* Edades con signo + / -                        ^\\d\\d?[-]?[+]?$\n",
    "* Numeros y letras, obtener número y guardar    ^\\d\\d?\\s\\w+?$\n",
    "\n",
    "RegEx devuelve un arreglo con el valor que haga match con la expresión"
   ],
   "metadata": {
    "collapsed": false,
    "pycharm": {
     "name": "#%% md\n",
     "is_executing": false
    }
   }
  },
  {
   "cell_type": "code",
   "execution_count": 86,
   "outputs": [
    {
     "name": "stderr",
     "text": [
      "/usr/local/lib/python3.7/site-packages/ipykernel_launcher.py:42: SettingWithCopyWarning: \n",
      "A value is trying to be set on a copy of a slice from a DataFrame.\n",
      "Try using .loc[row_indexer,col_indexer] = value instead\n",
      "\n",
      "See the caveats in the documentation: https://pandas.pydata.org/pandas-docs/stable/user_guide/indexing.html#returning-a-view-versus-a-copy\n"
     ],
     "output_type": "stream"
    }
   ],
   "source": [
    "# Declaración de expresiones regulares\n",
    "ageInt = '^\\d\\d?$'\n",
    "ageRange = '^\\d\\d?[-]\\d\\d?$'\n",
    "ageFloat = '^\\d(\\.\\d+)?$'\n",
    "ageSign = '^\\d\\d?[-]?[+]?$'\n",
    "ageText = '^\\d\\d?\\s\\w+?$'\n",
    "\n",
    "# Arreglo para guardar nueva lista de edades\n",
    "new_ages = []\n",
    "\n",
    "# Recorremos las edades para estandarizar la información\n",
    "for ages in df_test.age:\n",
    "    strAges = str(ages)\n",
    "    # RegEx Numeros enteros\n",
    "    if re.findall(ageInt, strAges):\n",
    "        new_ages.append(ages)\n",
    "    # RegEx Rango de numeros\n",
    "    elif re.findall(ageRange, strAges):\n",
    "        indexes = ages.split('-')\n",
    "        intIndexes = list(map(int, indexes))\n",
    "        medianIndex = np.median(intIndexes)\n",
    "        new_ages.append(int(medianIndex))\n",
    "    # RegEx Numeros flotantes\n",
    "    elif re.findall(ageFloat, strAges):\n",
    "        formattedAge = int(round(float(ages)))\n",
    "        new_ages.append(formattedAge)\n",
    "    # ReEx Edades con signos (+/-)\n",
    "    elif re.findall(ageSign, strAges):\n",
    "        ageSt = re.findall(r'\\d+', ages)\n",
    "        new_ages.append(int(ageSt[0]))\n",
    "    # Regex Edades con texto\n",
    "    elif re.findall(ageText, strAges):\n",
    "        monthAge = ages.split()\n",
    "        monthConversion = int(monthAge[0]) / 12\n",
    "        ageConverted = int(round(monthConversion))\n",
    "        new_ages.append(ageConverted)\n",
    "    else:\n",
    "        new_ages.append(\"ERROR\")\n",
    "        \n",
    "    \n",
    "# Agregamos una nueva columna al DF con la edades nuevas\n",
    "df_test[\"new_age\"] = new_ages"
   ],
   "metadata": {
    "collapsed": false,
    "pycharm": {
     "name": "#%%\n",
     "is_executing": false
    }
   }
  },
  {
   "cell_type": "code",
   "execution_count": 88,
   "outputs": [
    {
     "name": "stdout",
     "text": [
      "       age     sex date_onset_symptoms date_admission_hospital  \\\n",
      "1       78    male                 NaN                     NaN   \n",
      "2       61  female                 NaN                     NaN   \n",
      "27      66    male                 NaN                     NaN   \n",
      "28      27  female                 NaN                     NaN   \n",
      "29      17    male                 NaN                     NaN   \n",
      "30      51  female                 NaN                     NaN   \n",
      "31      68    male                 NaN                     NaN   \n",
      "32      26    male                 NaN                     NaN   \n",
      "33      30    male                 NaN                     NaN   \n",
      "34      53  female                 NaN                     NaN   \n",
      "35      35    male                 NaN                     NaN   \n",
      "37      27  female                 NaN                     NaN   \n",
      "38      28    male                 NaN                     NaN   \n",
      "39      58  female                 NaN                     NaN   \n",
      "40      33  female                 NaN                     NaN   \n",
      "52      33    male                 NaN                     NaN   \n",
      "53      50    male          08.02.2020                     NaN   \n",
      "54      33  female                 NaN              04.02.2020   \n",
      "55      45    male          01.02.2020              30.01.2020   \n",
      "56      24    male                 NaN                     NaN   \n",
      "57      88    male                 NaN                     NaN   \n",
      "59      29  female                 NaN                     NaN   \n",
      "60      21  female                 NaN                     NaN   \n",
      "61      78  female                 NaN                     NaN   \n",
      "62      52    male                 NaN                     NaN   \n",
      "63      60  female                 NaN              14.02.2020   \n",
      "113     28    male                 NaN                     NaN   \n",
      "224     56  female                 NaN                     NaN   \n",
      "335     79  female          30.01.2020                     NaN   \n",
      "365     50    male          14.02.2020              17.02.2020   \n",
      "446     26    male          11.02.2020              14.02.2020   \n",
      "476     60    male          03.02.2020              13.02.2020   \n",
      "504  40-49    male          08.02.2020              10.02.2020   \n",
      "517     82  female                 NaN                     NaN   \n",
      "557     25    male          01.02.2020                     NaN   \n",
      "668     40    male          10.02.2020              14.02.2020   \n",
      "756  20-29    male          07.02.2020                     NaN   \n",
      "758  40-89     NaN                 NaN                     NaN   \n",
      "759  40-89     NaN                 NaN                     NaN   \n",
      "760  40-89     NaN                 NaN                     NaN   \n",
      "761  40-89     NaN                 NaN                     NaN   \n",
      "762  40-89     NaN                 NaN                     NaN   \n",
      "763  40-89     NaN                 NaN                     NaN   \n",
      "764  40-89     NaN                 NaN                     NaN   \n",
      "765  40-49    male          02.02.2020              12.02.2020   \n",
      "766  60-69    male                 NaN                     NaN   \n",
      "767  80-89    male          09.02.2020                     NaN   \n",
      "769  50-59    male          05.02.2020              15.02.2020   \n",
      "770  20-29    male          07.02.2020                     NaN   \n",
      "774  13-19    male                 NaN                     NaN   \n",
      "\n",
      "    date_confirmation                            symptoms  \\\n",
      "1          21.02.2020                                 NaN   \n",
      "2          14.02.2020                                 NaN   \n",
      "27         07.02.2020                                 NaN   \n",
      "28         07.02.2020                                 NaN   \n",
      "29         07.02.2020                                 NaN   \n",
      "30         07.02.2020                                 NaN   \n",
      "31         08.02.2020                                 NaN   \n",
      "32         08.02.2020                                 NaN   \n",
      "33         08.02.2020                                 NaN   \n",
      "34         08.02.2020                                 NaN   \n",
      "35         08.02.2020                                 NaN   \n",
      "37         08.02.2020                                 NaN   \n",
      "38         08.02.2020                                 NaN   \n",
      "39         08.02.2020                                 NaN   \n",
      "40         08.02.2020                                 NaN   \n",
      "52         14.02.2020                                 NaN   \n",
      "53         14.02.2020                                 NaN   \n",
      "54         13.02.2020                                 NaN   \n",
      "55         13.02.2020                                 NaN   \n",
      "56         12.02.2020                                 NaN   \n",
      "57         10.02.2020                                 NaN   \n",
      "59         11.02.2020                                 NaN   \n",
      "60         11.02.2020                                 NaN   \n",
      "61         09.02.2020                                 NaN   \n",
      "62         09.02.2020                                 NaN   \n",
      "63         15.02.2020                                 NaN   \n",
      "113        14.02.2020                                 NaN   \n",
      "224        14.02.2020                                 NaN   \n",
      "335        14.02.2020                                 NaN   \n",
      "365        16.02.2020                                 NaN   \n",
      "446        15.02.2020                                 NaN   \n",
      "476        18.02.2020             fever, severe pneumonia   \n",
      "504        10.02.2020                               fever   \n",
      "517        14.02.2020                                 NaN   \n",
      "557        15.02.2020                                 NaN   \n",
      "668        15.02.2020                                 NaN   \n",
      "756        08.02.2020           cough, fever, sore throat   \n",
      "758        15.02.2020                                 NaN   \n",
      "759        15.02.2020                                 NaN   \n",
      "760        15.02.2020                                 NaN   \n",
      "761        15.02.2020                                 NaN   \n",
      "762        15.02.2020                                 NaN   \n",
      "763        15.02.2020                                 NaN   \n",
      "764        15.02.2020                                 NaN   \n",
      "765        15.02.2020                        cough, fever   \n",
      "766        16.02.2020                                 NaN   \n",
      "767        18.02.2020                      dyspnea, fever   \n",
      "769        18.02.2020  cough, difficulty breathing, fever   \n",
      "770        18.02.2020                               fever   \n",
      "774        18.02.2020                                 NaN   \n",
      "\n",
      "     chronic_disease_binary chronic_disease  \\\n",
      "1                     False             NaN   \n",
      "2                     False             NaN   \n",
      "27                    False             NaN   \n",
      "28                    False             NaN   \n",
      "29                    False             NaN   \n",
      "30                    False             NaN   \n",
      "31                    False             NaN   \n",
      "32                    False             NaN   \n",
      "33                    False             NaN   \n",
      "34                    False             NaN   \n",
      "35                    False             NaN   \n",
      "37                    False             NaN   \n",
      "38                    False             NaN   \n",
      "39                    False             NaN   \n",
      "40                    False             NaN   \n",
      "52                    False             NaN   \n",
      "53                    False             NaN   \n",
      "54                    False             NaN   \n",
      "55                    False             NaN   \n",
      "56                    False             NaN   \n",
      "57                    False             NaN   \n",
      "59                    False             NaN   \n",
      "60                    False             NaN   \n",
      "61                    False             NaN   \n",
      "62                    False             NaN   \n",
      "63                    False             NaN   \n",
      "113                   False             NaN   \n",
      "224                   False             NaN   \n",
      "335                   False             NaN   \n",
      "365                   False             NaN   \n",
      "446                   False             NaN   \n",
      "476                   False             NaN   \n",
      "504                   False             NaN   \n",
      "517                   False             NaN   \n",
      "557                   False             NaN   \n",
      "668                   False             NaN   \n",
      "756                   False             NaN   \n",
      "758                   False             NaN   \n",
      "759                   False             NaN   \n",
      "760                   False             NaN   \n",
      "761                   False             NaN   \n",
      "762                   False             NaN   \n",
      "763                   False             NaN   \n",
      "764                   False             NaN   \n",
      "765                   False             NaN   \n",
      "766                   False             NaN   \n",
      "767                   False             NaN   \n",
      "769                   False             NaN   \n",
      "770                   False             NaN   \n",
      "774                   False             NaN   \n",
      "\n",
      "                                                source    outcome  \\\n",
      "1    https://www.corriere.it/cronache/20_febbraio_2...      death   \n",
      "2    https://www.channelnewsasia.com/news/singapore...  discharge   \n",
      "27          https://m.weibo.cn/detail/4469604653292027        NaN   \n",
      "28          https://m.weibo.cn/detail/4469604653292027        NaN   \n",
      "29          https://m.weibo.cn/detail/4469604653292027        NaN   \n",
      "30          https://m.weibo.cn/detail/4469604653292027        NaN   \n",
      "31          https://m.weibo.cn/status/4469967388688025        NaN   \n",
      "32          https://m.weibo.cn/status/4469967388688025        NaN   \n",
      "33          https://m.weibo.cn/status/4469967388688025        NaN   \n",
      "34          https://m.weibo.cn/status/4469967388688025        NaN   \n",
      "35          https://m.weibo.cn/status/4469967388688025        NaN   \n",
      "37          https://m.weibo.cn/status/4469967388688025        NaN   \n",
      "38          https://m.weibo.cn/status/4469967388688025        NaN   \n",
      "39          https://m.weibo.cn/status/4469967388688025        NaN   \n",
      "40          https://m.weibo.cn/status/4469967388688025        NaN   \n",
      "52   http://wsjkw.jl.gov.cn/xwzx/xwfb/202002/t20200...        NaN   \n",
      "53   http://wsjkw.jl.gov.cn/xwzx/xwfb/202002/t20200...        NaN   \n",
      "54   http://wsjkw.jl.gov.cn/xwzx/xwfb/202002/t20200...        NaN   \n",
      "55   http://wsjkw.jl.gov.cn/xwzx/xwfb/202002/t20200...        NaN   \n",
      "56   http://wsjkw.jl.gov.cn/xwzx/xwfb/202002/t20200...        NaN   \n",
      "57   http://wsjkw.jl.gov.cn/xwzx/xwfb/202002/t20200...        NaN   \n",
      "59   http://wsjkw.jl.gov.cn/xwzx/xwfb/202002/t20200...        NaN   \n",
      "60   http://wsjkw.jl.gov.cn/xwzx/xwfb/202002/t20200...        NaN   \n",
      "61   http://wsjkw.jl.gov.cn/xwzx/xwfb/202002/t20200...        NaN   \n",
      "62   http://wsjkw.jl.gov.cn/xwzx/xwfb/202002/t20200...        NaN   \n",
      "63   http://wsjkw.jl.gov.cn/xwzx/xwfb/202002/t20200...        NaN   \n",
      "113  https://www.channelnewsasia.com/news/singapore...  discharge   \n",
      "224  https://www.channelnewsasia.com/news/singapore...  discharge   \n",
      "335  https://www.moh.gov.sg/news-highlights/details...  discharge   \n",
      "365  https://www3.nhk.or.jp/news/html/20200217/k100...        NaN   \n",
      "446  https://www.moh.gov.sg/news-highlights/details...  discharge   \n",
      "476  https://www3.nhk.or.jp/news/html/20200218/k100...        NaN   \n",
      "504      https://www.mhlw.go.jp/stf/newpage_09422.html        NaN   \n",
      "517  http://sxwjw.shaanxi.gov.cn/art/2020/2/14/art_...        NaN   \n",
      "557  https://www.moh.gov.sg/news-highlights/details...  discharge   \n",
      "668  https://www.moh.gov.sg/news-highlights/details...  discharge   \n",
      "756                                                NaN        NaN   \n",
      "758  https://www3.nhk.or.jp/news/html/20200215/k100...        NaN   \n",
      "759  https://www3.nhk.or.jp/news/html/20200215/k100...        NaN   \n",
      "760  https://www3.nhk.or.jp/news/html/20200215/k100...        NaN   \n",
      "761  https://www3.nhk.or.jp/news/html/20200215/k100...        NaN   \n",
      "762  https://www3.nhk.or.jp/news/html/20200215/k100...        NaN   \n",
      "763  https://www3.nhk.or.jp/news/html/20200215/k100...        NaN   \n",
      "764  https://www3.nhk.or.jp/news/html/20200215/k100...        NaN   \n",
      "765  https://www3.nhk.or.jp/news/html/20200215/k100...        NaN   \n",
      "766  https://www3.nhk.or.jp/news/html/20200216/k100...        NaN   \n",
      "767  https://www3.nhk.or.jp/news/html/20200218/k100...        NaN   \n",
      "769  https://www3.nhk.or.jp/news/html/20200218/k100...        NaN   \n",
      "770  https://www3.nhk.or.jp/news/html/20200218/k100...        NaN   \n",
      "774  https://www3.nhk.or.jp/news/html/20200218/k100...        NaN   \n",
      "\n",
      "    date_death_or_discharge  \\\n",
      "1                22.02.2020   \n",
      "2                17.02.2020   \n",
      "27                      NaN   \n",
      "28                      NaN   \n",
      "29                      NaN   \n",
      "30                      NaN   \n",
      "31                      NaN   \n",
      "32                      NaN   \n",
      "33                      NaN   \n",
      "34                      NaN   \n",
      "35                      NaN   \n",
      "37                      NaN   \n",
      "38                      NaN   \n",
      "39                      NaN   \n",
      "40                      NaN   \n",
      "52                      NaN   \n",
      "53                      NaN   \n",
      "54                      NaN   \n",
      "55                      NaN   \n",
      "56                      NaN   \n",
      "57                      NaN   \n",
      "59                      NaN   \n",
      "60                      NaN   \n",
      "61                      NaN   \n",
      "62                      NaN   \n",
      "63                      NaN   \n",
      "113              20.02.2020   \n",
      "224              02.03.2020   \n",
      "335              29.02.2020   \n",
      "365                     NaN   \n",
      "446              02.03.2020   \n",
      "476                     NaN   \n",
      "504                     NaN   \n",
      "517                     NaN   \n",
      "557              05.03.2020   \n",
      "668              27.02.2020   \n",
      "756                     NaN   \n",
      "758                     NaN   \n",
      "759                     NaN   \n",
      "760                     NaN   \n",
      "761                     NaN   \n",
      "762                     NaN   \n",
      "763                     NaN   \n",
      "764                     NaN   \n",
      "765                     NaN   \n",
      "766                     NaN   \n",
      "767                     NaN   \n",
      "769                     NaN   \n",
      "770                     NaN   \n",
      "774                     NaN   \n",
      "\n",
      "                                  notes_for_discussion new_age  \n",
      "1                                                  NaN      78  \n",
      "2                                                  NaN      61  \n",
      "27   https://www.google.com/maps/place/Zhenlai+Coun...      66  \n",
      "28                                                 NaN      27  \n",
      "29                                                 NaN      17  \n",
      "30                                                 NaN      51  \n",
      "31                                                 NaN      68  \n",
      "32                                                 NaN      26  \n",
      "33                                                 NaN      30  \n",
      "34                                                 NaN      53  \n",
      "35                                                 NaN      35  \n",
      "37                                                 NaN      27  \n",
      "38                                                 NaN      28  \n",
      "39                                                 NaN      58  \n",
      "40                                                 NaN      33  \n",
      "52   https://new.qq.com/omn/20200215/20200215A0LD41...      33  \n",
      "53                                                 NaN      50  \n",
      "54   https://new.qq.com/omn/20200215/20200215A0LD41...      33  \n",
      "55                                                 NaN      45  \n",
      "56                                                 NaN      24  \n",
      "57                                                 NaN      88  \n",
      "59                                                 NaN      29  \n",
      "60                                                 NaN      21  \n",
      "61                                                 NaN      78  \n",
      "62                                                 NaN      52  \n",
      "63   https://www.google.com/maps/search/%E4%BD%8F%E...      60  \n",
      "113                                                NaN      28  \n",
      "224                                                NaN      56  \n",
      "335                                                NaN      79  \n",
      "365                                                NaN      50  \n",
      "446                                                NaN      26  \n",
      "476                                                NaN      60  \n",
      "504                                                NaN      44  \n",
      "517                                                NaN      82  \n",
      "557                                                NaN      25  \n",
      "668                                                NaN      40  \n",
      "756                                                NaN      24  \n",
      "758                                                NaN      64  \n",
      "759                                                NaN      64  \n",
      "760                                                NaN      64  \n",
      "761                                                NaN      64  \n",
      "762                                                NaN      64  \n",
      "763                                                NaN      64  \n",
      "764                                                NaN      64  \n",
      "765                                                NaN      44  \n",
      "766                                                NaN      64  \n",
      "767                                                NaN      84  \n",
      "769                                                NaN      54  \n",
      "770                                                NaN      24  \n",
      "774                                                NaN      16  \n"
     ],
     "output_type": "stream"
    }
   ],
   "source": [
    "print(df_test.head())"
   ],
   "metadata": {
    "collapsed": false,
    "pycharm": {
     "name": "#%% \n",
     "is_executing": false
    }
   }
  },
  {
   "cell_type": "code",
   "execution_count": 89,
   "outputs": [],
   "source": [
    "# Export DF to excel\n",
    "# df_test.to_excel(\"reAged.xlsx\")  "
   ],
   "metadata": {
    "collapsed": false,
    "pycharm": {
     "name": "#%%\n",
     "is_executing": false
    }
   }
  }
 ],
 "metadata": {
  "kernelspec": {
   "display_name": "Python 3",
   "language": "python",
   "name": "python3"
  },
  "language_info": {
   "codemirror_mode": {
    "name": "ipython",
    "version": 2
   },
   "file_extension": ".py",
   "mimetype": "text/x-python",
   "name": "python",
   "nbconvert_exporter": "python",
   "pygments_lexer": "ipython2",
   "version": "2.7.6"
  },
  "pycharm": {
   "stem_cell": {
    "cell_type": "raw",
    "source": [],
    "metadata": {
     "collapsed": false
    }
   }
  }
 },
 "nbformat": 4,
 "nbformat_minor": 0
}