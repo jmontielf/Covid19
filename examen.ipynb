{
 "cells": [
  {
   "cell_type": "markdown",
   "source": [
    "### Por realizar:\n",
    "* Crear gráficos\n",
    "* Aplicar Regex para verificar que se unifiquen todos los sintomas\n"
   ],
   "metadata": {
    "collapsed": false,
    "pycharm": {
     "name": "#%% md\n"
    }
   }
  },
  {
   "cell_type": "markdown",
   "source": [
    "## Análisis de datos COVID-19\n",
    "\n",
    "### Objetivo:\n",
    "#### Identificación de individuos que presentan síntomas y características específicas, padecen la enfermedad COVID-19 y están con riesgo de muerte.\n",
    "\n",
    "#### Se utilizarán herramientas de análisis de datos con Python, Pandas, Matplotlib, numpy y scikit-learn."
   ],
   "metadata": {
    "collapsed": false
   }
  },
  {
   "cell_type": "code",
   "execution_count": 39,
   "metadata": {
    "collapsed": true,
    "pycharm": {
     "is_executing": false
    }
   },
   "outputs": [],
   "source": [
    "# Importamos las librerías necesarias para el análisis de datos.\n",
    "# Pandas para el manejo y tratamiento de los datos\n",
    "# Numpy para poder trabajar con matrices multidimensionales\n",
    "# Matplotlib para visualización de data\n",
    "# Seaborn para visualización de data, basado en matplotlib\n",
    "# Re para expresiones regulares\n",
    "\n",
    "import matplotlib.pyplot as plt\n",
    "from collections import Counter\n",
    "import seaborn as sns\n",
    "import pandas as pd\n",
    "import numpy as np\n",
    "import re\n",
    "\n",
    "# Se indica a matplotlib mostrar el gráfico en la celda a ejecutar y guarda el gráfico en el notebook.\n",
    "%matplotlib inline\n",
    "# Configura los estilos de los gráficos de seaborn\n",
    "sns.set_style(\"whitegrid\")"
   ]
  },
  {
   "cell_type": "markdown",
   "source": [
    "### 0) Preparación de la información y data\n",
    "#### Importaremos el dataset "
   ],
   "metadata": {
    "collapsed": false,
    "pycharm": {
     "name": "#%% md\n"
    }
   }
  },
  {
   "cell_type": "code",
   "execution_count": 3,
   "outputs": [
    {
     "name": "stderr",
     "text": [
      "/usr/local/lib/python3.7/site-packages/IPython/core/interactiveshell.py:3063: DtypeWarning: Columns (1,2,9,10,12,13,14,15,16,17,19,21,22,23,24,25,26,27,31,32) have mixed types.Specify dtype option on import or set low_memory=False.\n",
      "  interactivity=interactivity, compiler=compiler, result=result)\n"
     ],
     "output_type": "stream"
    }
   ],
   "source": [
    "# Importamos el archivo CSV como un DF\n",
    "df_full = pd.read_csv('latestdata.csv')\n"
   ],
   "metadata": {
    "collapsed": false,
    "pycharm": {
     "name": "#%%\n",
     "is_executing": false
    }
   }
  },
  {
   "cell_type": "code",
   "source": [
    "# Creamos un nuevo DF con las filas donde las edades no son nulos\n",
    "df_preProcessing = df_full[df_full['age'].notna()]\n"
   ],
   "metadata": {
    "collapsed": false,
    "pycharm": {
     "name": "#%%\n",
     "is_executing": false
    }
   },
   "execution_count": 4,
   "outputs": []
  },
  {
   "cell_type": "code",
   "execution_count": 5,
   "outputs": [
    {
     "data": {
      "text/plain": "   age     sex date_onset_symptoms date_admission_hospital date_confirmation  \\\n1   78    male                 NaN                     NaN        21.02.2020   \n2   61  female                 NaN                     NaN        14.02.2020   \n27  66    male                 NaN                     NaN        07.02.2020   \n28  27  female                 NaN                     NaN        07.02.2020   \n29  17    male                 NaN                     NaN        07.02.2020   \n\n   symptoms  chronic_disease_binary chronic_disease  \\\n1       NaN                   False             NaN   \n2       NaN                   False             NaN   \n27      NaN                   False             NaN   \n28      NaN                   False             NaN   \n29      NaN                   False             NaN   \n\n                                               source    outcome  \\\n1   https://www.corriere.it/cronache/20_febbraio_2...      death   \n2   https://www.channelnewsasia.com/news/singapore...  discharge   \n27         https://m.weibo.cn/detail/4469604653292027        NaN   \n28         https://m.weibo.cn/detail/4469604653292027        NaN   \n29         https://m.weibo.cn/detail/4469604653292027        NaN   \n\n   date_death_or_discharge                               notes_for_discussion  \\\n1               22.02.2020                                                NaN   \n2               17.02.2020                                                NaN   \n27                     NaN  https://www.google.com/maps/place/Zhenlai+Coun...   \n28                     NaN                                                NaN   \n29                     NaN                                                NaN   \n\n      country  \n1       Italy  \n2   Singapore  \n27      China  \n28      China  \n29      China  ",
      "text/html": "<div>\n<style scoped>\n    .dataframe tbody tr th:only-of-type {\n        vertical-align: middle;\n    }\n\n    .dataframe tbody tr th {\n        vertical-align: top;\n    }\n\n    .dataframe thead th {\n        text-align: right;\n    }\n</style>\n<table border=\"1\" class=\"dataframe\">\n  <thead>\n    <tr style=\"text-align: right;\">\n      <th></th>\n      <th>age</th>\n      <th>sex</th>\n      <th>date_onset_symptoms</th>\n      <th>date_admission_hospital</th>\n      <th>date_confirmation</th>\n      <th>symptoms</th>\n      <th>chronic_disease_binary</th>\n      <th>chronic_disease</th>\n      <th>source</th>\n      <th>outcome</th>\n      <th>date_death_or_discharge</th>\n      <th>notes_for_discussion</th>\n      <th>country</th>\n    </tr>\n  </thead>\n  <tbody>\n    <tr>\n      <th>1</th>\n      <td>78</td>\n      <td>male</td>\n      <td>NaN</td>\n      <td>NaN</td>\n      <td>21.02.2020</td>\n      <td>NaN</td>\n      <td>False</td>\n      <td>NaN</td>\n      <td>https://www.corriere.it/cronache/20_febbraio_2...</td>\n      <td>death</td>\n      <td>22.02.2020</td>\n      <td>NaN</td>\n      <td>Italy</td>\n    </tr>\n    <tr>\n      <th>2</th>\n      <td>61</td>\n      <td>female</td>\n      <td>NaN</td>\n      <td>NaN</td>\n      <td>14.02.2020</td>\n      <td>NaN</td>\n      <td>False</td>\n      <td>NaN</td>\n      <td>https://www.channelnewsasia.com/news/singapore...</td>\n      <td>discharge</td>\n      <td>17.02.2020</td>\n      <td>NaN</td>\n      <td>Singapore</td>\n    </tr>\n    <tr>\n      <th>27</th>\n      <td>66</td>\n      <td>male</td>\n      <td>NaN</td>\n      <td>NaN</td>\n      <td>07.02.2020</td>\n      <td>NaN</td>\n      <td>False</td>\n      <td>NaN</td>\n      <td>https://m.weibo.cn/detail/4469604653292027</td>\n      <td>NaN</td>\n      <td>NaN</td>\n      <td>https://www.google.com/maps/place/Zhenlai+Coun...</td>\n      <td>China</td>\n    </tr>\n    <tr>\n      <th>28</th>\n      <td>27</td>\n      <td>female</td>\n      <td>NaN</td>\n      <td>NaN</td>\n      <td>07.02.2020</td>\n      <td>NaN</td>\n      <td>False</td>\n      <td>NaN</td>\n      <td>https://m.weibo.cn/detail/4469604653292027</td>\n      <td>NaN</td>\n      <td>NaN</td>\n      <td>NaN</td>\n      <td>China</td>\n    </tr>\n    <tr>\n      <th>29</th>\n      <td>17</td>\n      <td>male</td>\n      <td>NaN</td>\n      <td>NaN</td>\n      <td>07.02.2020</td>\n      <td>NaN</td>\n      <td>False</td>\n      <td>NaN</td>\n      <td>https://m.weibo.cn/detail/4469604653292027</td>\n      <td>NaN</td>\n      <td>NaN</td>\n      <td>NaN</td>\n      <td>China</td>\n    </tr>\n  </tbody>\n</table>\n</div>"
     },
     "metadata": {},
     "output_type": "execute_result",
     "execution_count": 5
    }
   ],
   "source": [
    "# Creamos un nuevo DF solo con las columnas que nos sirven y fueron previamente limpiadas por edad.\n",
    "df_clean = df_preProcessing[[\n",
    "     'age', 'sex', 'date_onset_symptoms', \n",
    "     'date_admission_hospital', 'date_confirmation', \n",
    "     'symptoms', 'chronic_disease_binary', 'chronic_disease', \n",
    "     'source', 'outcome', 'date_death_or_discharge', 'notes_for_discussion', 'country'\n",
    "     ]]\n",
    "\n",
    "df_clean.head()\n"
   ],
   "metadata": {
    "collapsed": false,
    "pycharm": {
     "name": "#%%\n",
     "is_executing": false
    }
   }
  },
  {
   "cell_type": "code",
   "execution_count": 6,
   "outputs": [
    {
     "name": "stdout",
     "text": [
      "age , 0\n",
      "sex , 1756\n",
      "date_onset_symptoms , 78534\n",
      "date_admission_hospital , 240989\n",
      "date_confirmation , 218\n",
      "symptoms , 241499\n",
      "chronic_disease_binary , 0\n",
      "chronic_disease , 242915\n",
      "source , 154102\n",
      "outcome , 240552\n",
      "date_death_or_discharge , 242588\n",
      "notes_for_discussion , 242827\n",
      "country , 44\n"
     ],
     "output_type": "stream"
    }
   ],
   "source": [
    "# Analizamos las filas con datos nulos que quedan en el dataset, en la edad no quedan nulos\n",
    "obj = df_clean.isnull().sum()\n",
    "for key, value in obj.iteritems():\n",
    "    print(key, \",\", value)"
   ],
   "metadata": {
    "collapsed": false,
    "pycharm": {
     "name": "#%%\n",
     "is_executing": false
    }
   }
  },
  {
   "cell_type": "markdown",
   "source": [
    "### 1) Análisis, limpieza y agrupación de datos por Edad\n"
   ],
   "metadata": {
    "collapsed": false
   }
  },
  {
   "cell_type": "code",
   "source": [
    "# Cuenta total de registros por edad\n",
    "ageTotalCount = df_clean.age.count()\n",
    "print(\"Existen {} registros en el DF\".format(ageTotalCount))\n"
   ],
   "metadata": {
    "collapsed": false,
    "pycharm": {
     "name": "#%% \n",
     "is_executing": false
    }
   },
   "execution_count": 7,
   "outputs": [
    {
     "name": "stdout",
     "text": [
      "Existen 243077 registros en el DF\n"
     ],
     "output_type": "stream"
    }
   ]
  },
  {
   "cell_type": "code",
   "execution_count": 8,
   "outputs": [
    {
     "name": "stdout",
     "text": [
      "ver edad\n"
     ],
     "output_type": "stream"
    }
   ],
   "source": [
    "# Visualización de formatos de edad\n",
    "# df_clean.age.unique()\n",
    "print(\"ver edad\")"
   ],
   "metadata": {
    "collapsed": false,
    "pycharm": {
     "name": "#%%\n",
     "is_executing": false
    }
   }
  },
  {
   "cell_type": "code",
   "execution_count": 9,
   "outputs": [
    {
     "data": {
      "text/plain": "   age     sex date_onset_symptoms date_admission_hospital date_confirmation  \\\n1   78    male                 NaN                     NaN        21.02.2020   \n2   61  female                 NaN                     NaN        14.02.2020   \n27  66    male                 NaN                     NaN        07.02.2020   \n28  27  female                 NaN                     NaN        07.02.2020   \n29  17    male                 NaN                     NaN        07.02.2020   \n\n   symptoms  chronic_disease_binary chronic_disease  \\\n1       NaN                   False             NaN   \n2       NaN                   False             NaN   \n27      NaN                   False             NaN   \n28      NaN                   False             NaN   \n29      NaN                   False             NaN   \n\n                                               source    outcome  \\\n1   https://www.corriere.it/cronache/20_febbraio_2...      death   \n2   https://www.channelnewsasia.com/news/singapore...  discharge   \n27         https://m.weibo.cn/detail/4469604653292027        NaN   \n28         https://m.weibo.cn/detail/4469604653292027        NaN   \n29         https://m.weibo.cn/detail/4469604653292027        NaN   \n\n   date_death_or_discharge                               notes_for_discussion  \\\n1               22.02.2020                                                NaN   \n2               17.02.2020                                                NaN   \n27                     NaN  https://www.google.com/maps/place/Zhenlai+Coun...   \n28                     NaN                                                NaN   \n29                     NaN                                                NaN   \n\n      country  \n1       Italy  \n2   Singapore  \n27      China  \n28      China  \n29      China  ",
      "text/html": "<div>\n<style scoped>\n    .dataframe tbody tr th:only-of-type {\n        vertical-align: middle;\n    }\n\n    .dataframe tbody tr th {\n        vertical-align: top;\n    }\n\n    .dataframe thead th {\n        text-align: right;\n    }\n</style>\n<table border=\"1\" class=\"dataframe\">\n  <thead>\n    <tr style=\"text-align: right;\">\n      <th></th>\n      <th>age</th>\n      <th>sex</th>\n      <th>date_onset_symptoms</th>\n      <th>date_admission_hospital</th>\n      <th>date_confirmation</th>\n      <th>symptoms</th>\n      <th>chronic_disease_binary</th>\n      <th>chronic_disease</th>\n      <th>source</th>\n      <th>outcome</th>\n      <th>date_death_or_discharge</th>\n      <th>notes_for_discussion</th>\n      <th>country</th>\n    </tr>\n  </thead>\n  <tbody>\n    <tr>\n      <th>1</th>\n      <td>78</td>\n      <td>male</td>\n      <td>NaN</td>\n      <td>NaN</td>\n      <td>21.02.2020</td>\n      <td>NaN</td>\n      <td>False</td>\n      <td>NaN</td>\n      <td>https://www.corriere.it/cronache/20_febbraio_2...</td>\n      <td>death</td>\n      <td>22.02.2020</td>\n      <td>NaN</td>\n      <td>Italy</td>\n    </tr>\n    <tr>\n      <th>2</th>\n      <td>61</td>\n      <td>female</td>\n      <td>NaN</td>\n      <td>NaN</td>\n      <td>14.02.2020</td>\n      <td>NaN</td>\n      <td>False</td>\n      <td>NaN</td>\n      <td>https://www.channelnewsasia.com/news/singapore...</td>\n      <td>discharge</td>\n      <td>17.02.2020</td>\n      <td>NaN</td>\n      <td>Singapore</td>\n    </tr>\n    <tr>\n      <th>27</th>\n      <td>66</td>\n      <td>male</td>\n      <td>NaN</td>\n      <td>NaN</td>\n      <td>07.02.2020</td>\n      <td>NaN</td>\n      <td>False</td>\n      <td>NaN</td>\n      <td>https://m.weibo.cn/detail/4469604653292027</td>\n      <td>NaN</td>\n      <td>NaN</td>\n      <td>https://www.google.com/maps/place/Zhenlai+Coun...</td>\n      <td>China</td>\n    </tr>\n    <tr>\n      <th>28</th>\n      <td>27</td>\n      <td>female</td>\n      <td>NaN</td>\n      <td>NaN</td>\n      <td>07.02.2020</td>\n      <td>NaN</td>\n      <td>False</td>\n      <td>NaN</td>\n      <td>https://m.weibo.cn/detail/4469604653292027</td>\n      <td>NaN</td>\n      <td>NaN</td>\n      <td>NaN</td>\n      <td>China</td>\n    </tr>\n    <tr>\n      <th>29</th>\n      <td>17</td>\n      <td>male</td>\n      <td>NaN</td>\n      <td>NaN</td>\n      <td>07.02.2020</td>\n      <td>NaN</td>\n      <td>False</td>\n      <td>NaN</td>\n      <td>https://m.weibo.cn/detail/4469604653292027</td>\n      <td>NaN</td>\n      <td>NaN</td>\n      <td>NaN</td>\n      <td>China</td>\n    </tr>\n  </tbody>\n</table>\n</div>"
     },
     "metadata": {},
     "output_type": "execute_result",
     "execution_count": 9
    }
   ],
   "source": [
    "# Visualización del DF sin nulos en la edad\n",
    "df_clean.head()\n"
   ],
   "metadata": {
    "collapsed": false,
    "pycharm": {
     "name": "#%%\n",
     "is_executing": false
    }
   }
  },
  {
   "cell_type": "code",
   "execution_count": 10,
   "outputs": [
    {
     "data": {
      "text/plain": "age                        243077\nsex                        241321\ndate_onset_symptoms        164543\ndate_admission_hospital      2088\ndate_confirmation          242859\nsymptoms                     1578\nchronic_disease_binary     243077\nchronic_disease               162\nsource                      88975\noutcome                      2525\ndate_death_or_discharge       489\nnotes_for_discussion          250\ncountry                    243033\ndtype: int64"
     },
     "metadata": {},
     "output_type": "execute_result",
     "execution_count": 10
    }
   ],
   "source": [
    "# Copia del DF sin nulos para modificarlo y poder trabajar las edades\n",
    "df_test = df_clean\n",
    "\n",
    "df_test.count()"
   ],
   "metadata": {
    "collapsed": false,
    "pycharm": {
     "name": "#%% \n",
     "is_executing": false
    }
   }
  },
  {
   "cell_type": "markdown",
   "source": [
    "### Implementar Regex para estandarizar la data\n",
    "#### Usar RegEX para validar los siguientes casos:\n",
    "\n",
    "* Numeros enteros, guardar como enteros         ^\\d(\\d?)+$\n",
    "* Rango de edades, obtener la media y guardar   ^\\d(\\d+)?\\s?[-]\\s?\\d(\\d+)?$\n",
    "* Numeros decimales, redondear y guardar        ^\\d(\\.\\d+)?$\n",
    "* Edades con signo + / -                        ^\\d\\d?[-]?[+]?$\n",
    "* Numeros y letras, obtener número y guardar    ^\\d\\d?\\s\\w+?$\n",
    "\n",
    "RegEx devuelve un arreglo con el valor que haga match con la expresión"
   ],
   "metadata": {
    "collapsed": false,
    "pycharm": {
     "name": "#%% md\n",
     "is_executing": false
    }
   }
  },
  {
   "cell_type": "code",
   "execution_count": 11,
   "outputs": [
    {
     "name": "stderr",
     "text": [
      "/usr/local/lib/python3.7/site-packages/ipykernel_launcher.py:42: SettingWithCopyWarning: \n",
      "A value is trying to be set on a copy of a slice from a DataFrame.\n",
      "Try using .loc[row_indexer,col_indexer] = value instead\n",
      "\n",
      "See the caveats in the documentation: https://pandas.pydata.org/pandas-docs/stable/user_guide/indexing.html#returning-a-view-versus-a-copy\n"
     ],
     "output_type": "stream"
    }
   ],
   "source": [
    "# Declaración de expresiones regulares\n",
    "ageInt = '^\\d(\\d?)+$'\n",
    "ageRange = '^\\d(\\d+)?\\s?[-]\\s?\\d(\\d+)?$'\n",
    "ageFloat = '^\\d(\\.\\d+)?$'\n",
    "ageSign = '^\\d\\d?[-]?[+]?$'\n",
    "ageText = '^\\d\\d?\\s\\w+?$'\n",
    "\n",
    "# Arreglo para guardar nueva lista de edades\n",
    "new_ages = []\n",
    "\n",
    "# Recorremos las edades para estandarizar la información\n",
    "for ages in df_test.age:\n",
    "    strAges = str(ages)\n",
    "    # RegEx Numeros enteros\n",
    "    if re.findall(ageInt, strAges):\n",
    "        new_ages.append(ages)\n",
    "    # RegEx Rango de numeros\n",
    "    elif re.findall(ageRange, strAges):\n",
    "        indexes = ages.split('-')\n",
    "        intIndexes = list(map(int, indexes))\n",
    "        medianIndex = np.median(intIndexes)\n",
    "        new_ages.append(int(medianIndex))\n",
    "    # RegEx Numeros flotantes\n",
    "    elif re.findall(ageFloat, strAges):\n",
    "        formattedAge = int(round(float(ages)))\n",
    "        new_ages.append(formattedAge)\n",
    "    # ReEx Edades con signos (+/-)\n",
    "    elif re.findall(ageSign, strAges):\n",
    "        ageSt = re.findall(r'\\d+', ages)\n",
    "        new_ages.append(int(ageSt[0]))\n",
    "    # Regex Edades con texto\n",
    "    elif re.findall(ageText, strAges):\n",
    "        monthAge = ages.split()\n",
    "        monthConversion = int(monthAge[0]) / 12\n",
    "        ageConverted = int(round(monthConversion))\n",
    "        new_ages.append(ageConverted)\n",
    "    else:\n",
    "        new_ages.append(\"ERROR\")\n",
    "        \n",
    "    \n",
    "# Agregamos una nueva columna al DF con la edades nuevas\n",
    "df_test[\"new_age\"] = new_ages"
   ],
   "metadata": {
    "collapsed": false,
    "pycharm": {
     "name": "#%%\n",
     "is_executing": false
    }
   }
  },
  {
   "cell_type": "code",
   "execution_count": 12,
   "outputs": [
    {
     "name": "stderr",
     "text": [
      "/usr/local/lib/python3.7/site-packages/pandas/core/generic.py:6245: SettingWithCopyWarning: \n",
      "A value is trying to be set on a copy of a slice from a DataFrame\n",
      "\n",
      "See the caveats in the documentation: https://pandas.pydata.org/pandas-docs/stable/user_guide/indexing.html#returning-a-view-versus-a-copy\n",
      "  self._update_inplace(new_data)\n"
     ],
     "output_type": "stream"
    },
    {
     "data": {
      "text/plain": "age                        False\nsex                        False\ndate_onset_symptoms        False\ndate_admission_hospital    False\ndate_confirmation          False\nsymptoms                   False\nchronic_disease_binary     False\nchronic_disease            False\nsource                     False\noutcome                    False\ndate_death_or_discharge    False\nnotes_for_discussion       False\ncountry                     True\nnew_age                    False\ndtype: bool"
     },
     "metadata": {},
     "output_type": "execute_result",
     "execution_count": 12
    }
   ],
   "source": [
    "# Reemplaza los datos nulos en la columna \"Country\" por el dato \"Other\" para poder separarlos\n",
    "df_test['country'].fillna(\"Other\", inplace=True)\n",
    "df_test.isin(['Other']).any()"
   ],
   "metadata": {
    "collapsed": false,
    "pycharm": {
     "name": "#%% \n",
     "is_executing": false
    }
   }
  },
  {
   "cell_type": "code",
   "execution_count": 13,
   "outputs": [
    {
     "name": "stderr",
     "text": [
      "/usr/local/lib/python3.7/site-packages/seaborn/categorical.py:3666: UserWarning: The `factorplot` function has been renamed to `catplot`. The original name will be removed in a future release. Please update your code. Note that the default `kind` in `factorplot` (`'point'`) has changed `'strip'` in `catplot`.\n",
      "  warnings.warn(msg)\n"
     ],
     "output_type": "stream"
    },
    {
     "data": {
      "text/plain": "<seaborn.axisgrid.FacetGrid at 0x11616ec50>"
     },
     "metadata": {},
     "output_type": "execute_result",
     "execution_count": 13
    },
    {
     "data": {
      "text/plain": "<Figure size 1080x360 with 1 Axes>",
      "image/png": "[encoded data removed]"
     },
     "metadata": {},
     "output_type": "display_data"
    }
   ],
   "source": [
    "# Muestra la cantidad de contagios en hombres y mujeres\n",
    "sns.factorplot('sex',data=df_test,kind=\"count\", aspect=3)"
   ],
   "metadata": {
    "collapsed": false,
    "pycharm": {
     "name": "#%%\n",
     "is_executing": false
    }
   }
  },
  {
   "cell_type": "markdown",
   "source": [
    "### Agrupación de edades\n",
    "#### Se crearán grupos de edad con la cantidad de registros coincidentes, estos serán:\n",
    "\n",
    "* Niño: 0 - 8 años\n",
    "* Adolescente: 9 - 14 años\n",
    "* Joven: 15 - 18 años\n",
    "* Adulto: 19 - 40 años\n",
    "* Adulto Medio: 41 - 60 años\n",
    "* Adulto Mayor: 60-120 años\n"
   ],
   "metadata": {
    "collapsed": false,
    "pycharm": {
     "name": "#%% md\n"
    }
   }
  },
  {
   "cell_type": "code",
   "execution_count": 14,
   "outputs": [],
   "source": [
    "# Creamos segmentación de grupos etarios con sus respectivas edades\n",
    "gruposEtarios = [\n",
    "    {'Niño': [0, 8]},\n",
    "    {'Adolescente': [9, 14]},\n",
    "    {'Joven': [15, 18]},\n",
    "    {'Adulto': [19, 40]},\n",
    "    {'Adulto Medio': [41, 60]},\n",
    "    {'Adulto Mayor': [60, 120]}\n",
    "]\n",
    "\n",
    "# Inicializamos diccionario que tendrá el valor total de la cantidad por grupo\n",
    "cantidadGrupoEtario = {\n",
    "    'Niño': 0 ,\n",
    "    'Adolescente': 0 ,\n",
    "    'Joven': 0 ,\n",
    "    'Adulto': 0 ,\n",
    "    'Adulto Medio': 0 ,\n",
    "    'Adulto Mayor': 0 \n",
    "}"
   ],
   "metadata": {
    "collapsed": false,
    "pycharm": {
     "name": "#%%\n",
     "is_executing": false
    }
   }
  },
  {
   "cell_type": "code",
   "execution_count": 15,
   "outputs": [
    {
     "name": "stdout",
     "text": [
      "{'Niño': 2257, 'Adolescente': 4476, 'Joven': 512, 'Adulto': 59068, 'Adulto Medio': 92366, 'Adulto Mayor': 84747}\n"
     ],
     "output_type": "stream"
    }
   ],
   "source": [
    "# Recorremos datos para clasificar grupos y guardarlo en un nuevo diccionario\n",
    "df_edades = df_test.new_age\n",
    "\n",
    "for getAge in df_edades:\n",
    "    # Convertimos la edad a int\n",
    "    if getAge != 'ERROR':\n",
    "        currentAge = int(getAge)\n",
    "        for ageRange in gruposEtarios:\n",
    "            # Obtenemos el nombre del grupo etario y el rango (valores)\n",
    "            ageRangeName = list(ageRange)[0]\n",
    "            ageRangeValue = list(ageRange.values())[0]\n",
    "            # Verificamos que la edad calce en un grupo etario para sumarla al total\n",
    "            if ageRangeValue[0] <= currentAge <= ageRangeValue[1]:\n",
    "                # Obtenemos la cantidad actual del rango en el diccionario\n",
    "                dictActualValue = cantidadGrupoEtario.get(ageRangeName)\n",
    "                # Actualizar el objeto final con cada dato\n",
    "                cantidadGrupoEtario.update({ageRangeName: dictActualValue + 1})\n",
    "\n",
    "# Muestra cantidad de gente por rango de edad\n",
    "# Mostramos valor del diccionario actualizado   \n",
    "print(cantidadGrupoEtario)"
   ],
   "metadata": {
    "collapsed": false,
    "pycharm": {
     "name": "#%%\n",
     "is_executing": false
    }
   }
  },
  {
   "cell_type": "markdown",
   "source": [
    "### Síntomas del Covid:\n",
    "#### A continuación se detallan los sintomas que se presentan a causa del COVID"
   ],
   "metadata": {
    "collapsed": false
   }
  },
  {
   "cell_type": "code",
   "execution_count": 43,
   "outputs": [
    {
     "name": "stdout",
     "text": [
      "Counter({'fever': 786, 'cough': 476, 'sore throat': 91, 'headache': 55, 'fatigue': 51, 'asymptomatic': 51, 'malaise': 47, 'pneumonia': 39, 'runny nose': 36, 'chills': 35, 'pneumonitis': 34, 'dyspnea': 23, 'shortness of breath': 23, 'mild': 23, 'joint pain': 22, 'diarrhea': 20, 'phlegm': 20, 'respiratory symptoms': 17, 'nausea': 16, 'myalgia': 16, 'weakness': 15, 'fever (38 ° c)': 14, 'sputum': 14, 'muscular soreness': 13, 'acute respiratory failure:pneumonia': 11, 'acute respiratory distress syndrome:pneumonia': 11, 'fever 38': 10, 'dry cough': 10, 'fever (38 ℃)': 10, 'discomfort': 10, 'cough and milagia': 10, 'between others': 10, 'chest tightness': 10, 'nasal congestion': 9, 'weak': 9, 'chest distress': 9, 'general malaise': 8, 'fever (37 ℃)': 8, 'breathing difficulty': 8, 'chest pain': 8, 'vomiting': 8, 'rhinorrhea': 8, 'sneezing': 8, 'septic shock:pneumonia': 7, 'difficulty breathing': 6, 'anorexia': 6, 'fever; fatigue': 6, 'respiratory problems': 6, 'expectoration': 6, 'muscle aches': 6, 'covid-19 related symptoms': 6, 'dizziness': 5, 'mialgia': 5, 'general weakness': 5, 'mild respiratory symptoms': 5, 'catarrhal symptoms': 5, 'abdominal pain': 4, 'coughing': 4, 'fever (39.5 ℃)': 4, 'fever 37.7℃': 4, 'cough; sputum; fever': 4, 'nasal discharge': 4, 'fever (37.4 ° c)': 4, 'fever 37.5': 4, 'fever 37.2': 4, 'fever (38.3 ℃)': 4, 'fever (38.0 ℃)': 4, 'body aches': 4, 'severe': 4, 'fever (38.0 ° c)': 4, 'runny nose and slight fever': 4, 'contact of hcov-19/brazil/spbr-01/2020': 4, 'body ache': 4, 'pharyngeal discomfort': 4, 'fever; cough': 4, 'other symptoms': 4, 'sore muscle': 4, 'muscle soreness': 4, 'acute respiratory distress syndrome': 4, 'respiratory': 4, 'severe pneumonia': 3, 'mild cough': 3, 'cough and fever': 3, 'respiratory distress': 3, 'cough:fever': 3, 'acute respiratory distress syndrome:severe pneumonia': 3, 'none': 3, 'acute respiratory distress:pneumonia': 3, '37.1 ° c': 2, 'mild coughing': 2, 'pulmonary inflammation': 2, 'feeling ill': 2, 'poor physical condition': 2, 'yes': 2, 'fever 38.3': 2, 'fever 37.5℃': 2, 'fever 38.2 ℃': 2, 'fever 37 c': 2, 'fever (37.5 ℃': 2, 'then 38 ℃)': 2, 'severe dyspnea': 2, 'chest tightness; fatigue': 2, 'cough; fever': 2, 'fever; nasal congestion; runny nose; sore throat; cough': 2, 'fever 39.3': 2, 'no respiratory symptoms': 2, 'esophageal reflux': 2, 'cough; sore body; cold': 2, 'flu-like symptoms': 2, 'fever; fatigue; dry cough': 2, 'low fever 37.0 ℃': 2, 'low fever (37.4 ℃)': 2, 'low fever (37.2 ° c); cough': 2, 'sore throat; fever': 2, 'fever (37.8 ℃)': 2, 'fever (38-39 ° c)': 2, 'fever 38.1 ℃ cough': 2, 'discharge': 2, 'fever 37.8 ℃': 2, 'rever': 2, 'fever 37.1 ℃': 2, 'couh': 2, 'fever 38.3 ℃': 2, 'fever (37 ℃); headache': 2, 'toothache': 2, 'fever (38-39 ℃)': 2, 'fever (38.2 ℃)': 2, 'fever (39 ° c)': 2, 'fever (37.4 ℃)': 2, 'fever (40.3 ℃)': 2, 'fever (39.9 ℃)': 2, 'fever (39.3 ℃)': 2, 'sore throa': 2, 'fever (38.1 ° c)': 2, 'headache.': 2, 'sore limbs': 2, 'systemic weakness': 2, 'fever 37 degrees': 2, 'fever 39.0 ℃': 2, 'difficulty walking': 2, 'cough symptoms': 2, 'fever (37.0 ℃)': 2, 'fever (38.7 ℃)': 2, 'fever (37.5 ℃ ～ 38.0 ℃)': 2, 'fever and cough': 2, 'afebrile': 2, 'aching muscles': 2, 'kidney failure and hypertension': 2, 'lethargy; dry cough': 2, 'digestive discomfort': 2, 'aggressive pulmonary symptomatology': 2, 'lesions on chest radiographs': 2, 'runny nose and tiredness': 2, 'fever; headache; phlegm': 2, 'fever; muscle aches; chills': 2, 'sore throat; headache': 2, 'chills; abdominal pain': 2, 'fever; cough; sore throat': 2, 'cough; sore throat; body aches': 2, 'dcough': 2, 'fever (37.2 ° c)': 2, 'joint muscle pain': 2, 'and malaise': 2, 'influenza': 2, 'vomiting.': 2, 'fever 37.8 ° c dyspnea with pneumonia': 2, 'fever 37.5 ℃': 2, 'dsypnea': 2, 'inappetance': 2, 'fever (38.6 ℃)': 2, 'difficuty breathing': 2, 'fever (38.9℃)': 2, 'fever (38.2℃)': 2, 'phlegn': 2, '38 ° c fever': 2, 'fever 37': 2, 'fever (38.8 ℃)': 2, 'fever (37.6 ℃)': 2, 'nasal discharge/congestion': 2, '38.7 degrees fever': 2, 'fever (37.5 ° c)': 2, 'fever 38-39 c': 2, 'fever 37-39 c': 2, 'fever (37.6 - 38.3 degrees)': 2, 'backache': 2, 'fever (38.5 degrees)': 2, 'fever (37.5-39 ° c)': 2, 'rash': 2, 'fever  (37.0-5 ℃)': 2, 'fever  (37.2 ℃)': 2, 'fever (38.5 ℃)': 2, 'mausea': 2, 'mile cough': 2, 'fever (38)': 2, 'minor fatigue': 2, 'cough difficulty breathing': 2, 'fever (38.0)': 2, 'fever (37.4-8)': 2, 'general pain': 2, 'fever (37.4 degrees)': 2, 'fever 38.0': 2, 'fever 40.0': 2, 'fever (39)': 2, 'inapatence': 2, 'rhinorrhoea': 2, 'anhelation': 2, 'pleural effusion': 2, 'pleuritic chest pain': 2, 'running nose': 2, 'conjuntivitis': 2, 'acute respiratory syndrome': 2, 'asymptomatic?': 2, 'pain and unwellness': 2, 'coriza': 2, 'sore throath': 2, 'respiratory problems (lungs)': 2, 'cough and sore throath': 2, 'oligosymptomatic': 2, 'sneeze': 2, 'muscular stiffness': 2, 'physical discomfort': 2, 'muscle ache': 2, 'soreness': 2, 'pharynx': 2, 'fever; dry cough; fatigue': 2, 'diarrhoea': 2, 'eventually showed acute left heart failure and acute coronary syndrome': 2, 'high fever': 2, 'fever;sore throat; fatigue; diarrhea': 2, 'fever; sore throat;fatigue;vomiting': 2, 'sweating': 2, 'rigor': 2, 'lack of energy': 2, 'muscle pain': 2, 'pharyngalgia': 2, 'wheezing': 2, 'full body slump': 2, 'transient fatigue': 2, 'dry throat': 2, 'fever; runny nose': 2, 'dry throat; sore throat; fatigue': 2, 'headache; dry mouth': 2, 'fever; dry mouth; throat discomfort': 2, 'cough; throat discomfort': 2, 'pharyngeal dryness': 2, 'dry throat; dry cough': 2, 'dry mouth': 2, 'fever; cough; fatigue; nausea': 2, 'shortness breath': 2, 'diarrheoa': 2, 'gasp': 2, 'grasp': 2, 'acute respiratory failure': 2, 'acute respiratory distress syndrome:pneumonia:septic shock': 2, 'no clinical symptoms': 2, 'heart failure:pneumonia': 2, 'symptoms associated with a respiratory condition': 2, 'pnuemonia': 2, 'respiratory complaints': 1, 'acute respiratory viral infection (arvi)': 1, 'muscle': 1, 'joint pain and cough': 1, 'myalgias': 1, 'cough fever': 1, 'conjunctivitis': 1, 'body pain': 1, 'no symptoms': 1, 'eye irritation': 1, 'sensation of chill': 1, 'chest discomfort': 1, 'primary myelofibrosis': 1, 'respiratory stress': 1, 'fatigure': 1, 'little sputum': 1, 'obnubilation': 1, 'somnolence': 1, 'emesis': 1, 'cold chills': 1, 'fever:headache:malaise:sore throat:cough': 1, 'fever:unproductive cough': 1, 'fever:cold:cough': 1, 'cough:rhinorrhea:sneezing:muscle pain': 1, 'cough:cold:fever:aches:headache': 1, 'cough:tired:chest pain': 1, 'fever:cough:acute respiratory distress syndrome': 1, 'fever:cough': 1, 'cough:sore throat:colds': 1, 'fever:headache:body malaise': 1, 'cough:body malaise': 1, 'fever:cough:shortness of breath': 1, 'cough:colds:dysphagia': 1, 'cough:sore throat:headache': 1, 'septic shock:cardiogenic shock:acute respiratory distress syndrome:acute renal failure': 1, 'fever:cough:dizziness': 1, 'multiple organ failure:pneumonia': 1, 'cardiac arrhythmia:septic shock:pneumonia': 1, 'pneumonia:acute respiratory failure:heart failure': 1, 'myocardial infarction:pneumonia:multiple electrolyte imbalance': 1, 'acute respiratory disease': 1, 'acute myocardial infarction': 1, 'acute coronary syndrome:congestive heart failure:severe acute respiratory infection': 1, 'acute respiratory failure:pneumonia:sepsis': 1, 'acute respiratory distress syndrome:septic shock:pneumonia': 1, 'acute respiratory failure:sepsis:pneumonia': 1, 'cardiogenic shock:acute coronary syndrome:heart failure:pneumonia': 1, 'acute respiratory failure:pneumonia:myocardial infarction': 1, 'acute kidney injury:septic shock:acute respiratory distress syndrome': 1, 'arrhythmia:acute respiratory distress syndrome:pneumonia': 1, 'sepsis:pneumonia': 1, 'acute respiratory distress syndrome:pneumonia:acute respiratory failure': 1, 'acute respiratory failure:acute kidney injury': 1, 'acute respiratory failure:myocardial dysfunction': 1, 'acute respiratory distress syndrome:septic shock:pneumonia:gastritis:acute kidney injury': 1, 'pneumonia:congestive heart failure': 1, 'cardiac arrhythmia:pneumonia': 1, 'myocardial infarction:acute respiratory distress syndrome:pneumonia': 1, 'cardiopulmonary arrest; acute respiratory failure; pneumonia': 1, 'arrhythmia:septic shock:acute respiratory disease syndrome: acute kidney injury': 1, 'acute respiratory failure:severe acute respiratory distress syndrome:pneumonia:septic shock': 1, 'arrhythmia:sepsis:acute respiratory distress syndrome:pneumonia:acute kidney injury': 1, 'acute respiratory distress syndrome:pneumonia:hypoxia': 1, 'cardiopulmonary arrest: acute respiratory distress syndrome: pneumonia: hypoxia': 1, 'acute respiratory distress syndrome:septic shock': 1, 'acute respiratory distress syndrome: pneumonia': 1, 'significant clinical suspicion': 1, 'febre': 1, 'tosse': 1, 'e sintomas respirat‚àö‚â•rios moderados': 1, 'dysphagia': 1, 'asthenia': 1, 'cough and general malaise': 1, 'mild resipiratory symptoms': 1, 'then on march 4 had feverish symptoms': 1, 'severe respiratory failure': 1, 'respiratory difficult breathing died same day': 1, 'torpid evolution with respiratory distress and severe bronchopneumonia': 1, 'respiratory & pnuemonia-died 6/4/2020': 1, 'kidney failure': 1})\n"
     ],
     "output_type": "stream"
    }
   ],
   "source": [
    "df_symptoms = df_test.loc[:, 'symptoms'].dropna()\n",
    "df_sym_2 = df_symptoms\n",
    "\n",
    "symtoms_array = []\n",
    "\n",
    "for symtom in df_sym_2:\n",
    "    getSymtom = symtom.split(',')\n",
    "    if len(getSymtom) == 1:\n",
    "        symtoms_array.append(getSymtom[0].strip().lower())\n",
    "    else: \n",
    "        for sym in getSymtom:\n",
    "            symtoms_array.append(sym.strip().lower())\n",
    "\n",
    "symtoms_array = Counter(symtoms_array)\n",
    "\n",
    "# Return the symtoms and the count of every of them\n",
    "print(symtoms_array)\n"
   ],
   "metadata": {
    "collapsed": false,
    "pycharm": {
     "name": "#%%\n",
     "is_executing": false
    }
   }
  },
  {
   "cell_type": "markdown",
   "source": [
    "### Muertes por Covid:\n",
    "#### A continuación se detallan los fallecidos a causa del COVID"
   ],
   "metadata": {
    "collapsed": false,
    "pycharm": {
     "name": "#%% md\n",
     "is_executing": false
    }
   }
  },
  {
   "cell_type": "code",
   "execution_count": 17,
   "outputs": [
    {
     "name": "stdout",
     "text": [
      "     new_age     sex chronic_disease     country date_confirmation  \\\n",
      "1         78    male             NaN       Italy        21.02.2020   \n",
      "1112      68  female             NaN       Italy        21.02.2020   \n",
      "2223      88    male             NaN  San Marino        27.02.2020   \n",
      "3334      95  female             NaN   Australia        04.03.2020   \n",
      "4445      84    male             NaN      Canada        07.03.2020   \n",
      "\n",
      "     date_death_or_discharge symptoms  \n",
      "1                 22.02.2020      NaN  \n",
      "1112              23.02.2020      NaN  \n",
      "2223              01.03.2020      NaN  \n",
      "3334              03.03.2020      NaN  \n",
      "4445              08.03.2020      NaN  \n"
     ],
     "output_type": "stream"
    }
   ],
   "source": [
    "# Revisamos el \"outcome\", el resultado del paciente y nos enfocamos a los que hayan fallecido.\n",
    "# Outcome death\n",
    "df_death_full = df_test[df_test['outcome'] == 'death']\n",
    "\n",
    "# Subselect of specify data (columns) \n",
    "df_death = df_death_full.loc[:, ['new_age', 'sex', 'chronic_disease', 'country', 'date_confirmation', 'date_death_or_discharge', 'symptoms']]\n",
    "print(df_death.head())\n"
   ],
   "metadata": {
    "collapsed": false,
    "pycharm": {
     "name": "#%%\n",
     "is_executing": false
    }
   }
  },
  {
   "cell_type": "code",
   "execution_count": 18,
   "outputs": [
    {
     "name": "stdout",
     "text": [
      "Australia         2\n",
      "Canada            2\n",
      "China             6\n",
      "Cuba              1\n",
      "France            2\n",
      "Guyana            2\n",
      "Italy             3\n",
      "Japan             2\n",
      "Other             2\n",
      "San Marino        1\n",
      "United States    18\n",
      "dtype: int64\n"
     ],
     "output_type": "stream"
    }
   ],
   "source": [
    "# Returns the country with the amount of deaths\n",
    "# Count amount of deaths by country\n",
    "df_count_death_by_country = df_death.groupby(df_death.loc[:, 'country'].tolist(),as_index=False).size()\n",
    "print(df_count_death_by_country)\n"
   ],
   "metadata": {
    "collapsed": false,
    "pycharm": {
     "name": "#%% \n",
     "is_executing": false
    }
   }
  },
  {
   "cell_type": "code",
   "execution_count": 19,
   "outputs": [
    {
     "data": {
      "text/plain": "<Figure size 432x288 with 1 Axes>",
      "image/png": "[encoded data removed]"
     },
     "metadata": {},
     "output_type": "display_data"
    }
   ],
   "source": [
    "# Gráfico que muestra la cantidad de muertos por país\n",
    "chartData = df_count_death_by_country\n",
    "\n",
    "fig = plt.figure()\n",
    "ax = fig.add_axes([0,0,2,2])\n",
    "langs = chartData.keys()\n",
    "students = chartData.values\n",
    "ax.bar(langs,students)\n",
    "ax.set_ylabel('Cantidad de muertos')\n",
    "ax.set_xlabel('Paises')\n",
    "plt.show()\n"
   ],
   "metadata": {
    "collapsed": false,
    "pycharm": {
     "name": "#%% \n",
     "is_executing": false
    }
   }
  },
  {
   "cell_type": "markdown",
   "source": [
    "### Recuperados de Covid:\n",
    "#### A continuación se detallan los recuperados del COVID"
   ],
   "metadata": {
    "collapsed": false
   }
  },
  {
   "cell_type": "code",
   "execution_count": 20,
   "outputs": [
    {
     "name": "stdout",
     "text": [
      "age                        167\n",
      "sex                        165\n",
      "date_onset_symptoms         98\n",
      "date_admission_hospital     97\n",
      "date_confirmation          167\n",
      "symptoms                    25\n",
      "chronic_disease_binary     167\n",
      "chronic_disease              4\n",
      "source                     163\n",
      "outcome                    167\n",
      "date_death_or_discharge    149\n",
      "notes_for_discussion         6\n",
      "country                    167\n",
      "new_age                    167\n",
      "dtype: int64\n"
     ],
     "output_type": "stream"
    }
   ],
   "source": [
    "# Outcome discharge (Recovered)\n",
    "df_discharge = df_test[df_test['outcome'] == 'discharge']\n",
    "print(df_discharge.count())\n"
   ],
   "metadata": {
    "collapsed": false,
    "pycharm": {
     "name": "#%%\n",
     "is_executing": false
    }
   }
  },
  {
   "cell_type": "code",
   "execution_count": 21,
   "outputs": [
    {
     "name": "stdout",
     "text": [
      "Australia               16\n",
      "China                    2\n",
      "Italy                    1\n",
      "Singapore               97\n",
      "South Korea             17\n",
      "United Arab Emirates     2\n",
      "Vietnam                 32\n",
      "dtype: int64\n"
     ],
     "output_type": "stream"
    }
   ],
   "source": [
    "# Returns the country with the amount of discharge (recovered) people\n",
    "# Count amount of deaths by country\n",
    "df_discharge_by_country = df_discharge.groupby(df_discharge.loc[:, 'country'].tolist(),as_index=False).size()\n",
    "print(df_discharge_by_country)\n"
   ],
   "metadata": {
    "collapsed": false,
    "pycharm": {
     "name": "#%%\n",
     "is_executing": false
    }
   }
  },
  {
   "cell_type": "code",
   "execution_count": 22,
   "outputs": [],
   "source": [
    "# Export DF to excel\n",
    "# df_test.to_excel(\"reAged3.xlsx\") \n"
   ],
   "metadata": {
    "collapsed": false,
    "pycharm": {
     "name": "#%% \n",
     "is_executing": false
    }
   }
  }
 ],
 "metadata": {
  "kernelspec": {
   "display_name": "Python 3",
   "language": "python",
   "name": "python3"
  },
  "language_info": {
   "codemirror_mode": {
    "name": "ipython",
    "version": 2
   },
   "file_extension": ".py",
   "mimetype": "text/x-python",
   "name": "python",
   "nbconvert_exporter": "python",
   "pygments_lexer": "ipython2",
   "version": "2.7.6"
  },
  "pycharm": {
   "stem_cell": {
    "cell_type": "raw",
    "source": [],
    "metadata": {
     "collapsed": false
    }
   }
  }
 },
 "nbformat": 4,
 "nbformat_minor": 0
}