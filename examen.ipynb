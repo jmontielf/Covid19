{
 "cells": [
  {
   "cell_type": "markdown",
   "source": [
    "### Por realizar:\n",
    "\n",
    "* Limpiar data\n",
    "* Verificar sintomas y outcome.\n",
    "* Cuanta gente existe por grupo etario\n",
    "* Mostrar sintomás que más se repite\n",
    "* Ver modelo de regresión linear simple para aplicar acá\n"
   ],
   "metadata": {
    "collapsed": false,
    "pycharm": {
     "name": "#%% md\n"
    }
   }
  },
  {
   "cell_type": "markdown",
   "source": [
    "## Análisis de datos COVID-19\n",
    "\n",
    "### Objetivo:\n",
    "#### Identificación de individuos que presentan síntomas y características específicas, padecen la enfermedad COVID-19 y están con riesgo de muerte.\n",
    "\n",
    "#### Se utilizarán herramientas de análisis de datos con Python, Pandas, Matplotlib, numpy y scikit-learn."
   ],
   "metadata": {
    "collapsed": false
   }
  },
  {
   "cell_type": "code",
   "execution_count": 49,
   "metadata": {
    "collapsed": true,
    "pycharm": {
     "is_executing": false
    }
   },
   "outputs": [],
   "source": [
    "# Importamos las librerías necesarias para el análisis de datos.\n",
    "# Pandas para el manejo y tratamiento de los datos\n",
    "# Numpy para poder trabajar con matrices multidimensionales\n",
    "# Matplotlib para visualización de data\n",
    "# Seaborn para visualización de data, basado en matplotlib\n",
    "# Re para expresiones regulares\n",
    "\n",
    "import matplotlib.pyplot as plt\n",
    "import seaborn as sns\n",
    "import pandas as pd\n",
    "import numpy as np\n",
    "import re\n",
    "\n",
    "# Se indica a matplotlib mostrar el gráfico en la celda a ejecutar y guarda el gráfico en el notebook.\n",
    "%matplotlib inline\n",
    "# Configura los estilos de los gráficos de seaborn\n",
    "sns.set_style(\"whitegrid\")\n",
    "\n",
    "# Otros\n",
    "import glob, os\n"
   ]
  },
  {
   "cell_type": "markdown",
   "source": [
    "### 0) Preparación de la información y data\n",
    "#### Importaremos el dataset "
   ],
   "metadata": {
    "collapsed": false,
    "pycharm": {
     "name": "#%% md\n"
    }
   }
  },
  {
   "cell_type": "code",
   "execution_count": 50,
   "outputs": [
    {
     "name": "stderr",
     "text": [
      "/usr/local/lib/python3.7/site-packages/IPython/core/interactiveshell.py:3063: DtypeWarning: Columns (1,2,9,10,12,13,14,15,16,17,19,21,22,23,24,25,26,27,31,32) have mixed types.Specify dtype option on import or set low_memory=False.\n",
      "  interactivity=interactivity, compiler=compiler, result=result)\n"
     ],
     "output_type": "stream"
    }
   ],
   "source": [
    "# Importamos el archivo CSV como un DF\n",
    "df_full = pd.read_csv('latestdata.csv')\n"
   ],
   "metadata": {
    "collapsed": false,
    "pycharm": {
     "name": "#%%\n",
     "is_executing": false
    }
   }
  },
  {
   "cell_type": "code",
   "source": [
    "# Creamos un nuevo DF con las filas donde las edades no son nulos\n",
    "df_preProcessing = df_full[df_full['age'].notna()]\n"
   ],
   "metadata": {
    "collapsed": false,
    "pycharm": {
     "name": "#%%\n",
     "is_executing": false
    }
   },
   "execution_count": 51,
   "outputs": []
  },
  {
   "cell_type": "code",
   "execution_count": 52,
   "outputs": [
    {
     "data": {
      "text/plain": "   age     sex date_onset_symptoms date_admission_hospital date_confirmation  \\\n1   78    male                 NaN                     NaN        21.02.2020   \n2   61  female                 NaN                     NaN        14.02.2020   \n27  66    male                 NaN                     NaN        07.02.2020   \n28  27  female                 NaN                     NaN        07.02.2020   \n29  17    male                 NaN                     NaN        07.02.2020   \n\n   symptoms  chronic_disease_binary chronic_disease  \\\n1       NaN                   False             NaN   \n2       NaN                   False             NaN   \n27      NaN                   False             NaN   \n28      NaN                   False             NaN   \n29      NaN                   False             NaN   \n\n                                               source    outcome  \\\n1   https://www.corriere.it/cronache/20_febbraio_2...      death   \n2   https://www.channelnewsasia.com/news/singapore...  discharge   \n27         https://m.weibo.cn/detail/4469604653292027        NaN   \n28         https://m.weibo.cn/detail/4469604653292027        NaN   \n29         https://m.weibo.cn/detail/4469604653292027        NaN   \n\n   date_death_or_discharge                               notes_for_discussion  \\\n1               22.02.2020                                                NaN   \n2               17.02.2020                                                NaN   \n27                     NaN  https://www.google.com/maps/place/Zhenlai+Coun...   \n28                     NaN                                                NaN   \n29                     NaN                                                NaN   \n\n      country  \n1       Italy  \n2   Singapore  \n27      China  \n28      China  \n29      China  ",
      "text/html": "<div>\n<style scoped>\n    .dataframe tbody tr th:only-of-type {\n        vertical-align: middle;\n    }\n\n    .dataframe tbody tr th {\n        vertical-align: top;\n    }\n\n    .dataframe thead th {\n        text-align: right;\n    }\n</style>\n<table border=\"1\" class=\"dataframe\">\n  <thead>\n    <tr style=\"text-align: right;\">\n      <th></th>\n      <th>age</th>\n      <th>sex</th>\n      <th>date_onset_symptoms</th>\n      <th>date_admission_hospital</th>\n      <th>date_confirmation</th>\n      <th>symptoms</th>\n      <th>chronic_disease_binary</th>\n      <th>chronic_disease</th>\n      <th>source</th>\n      <th>outcome</th>\n      <th>date_death_or_discharge</th>\n      <th>notes_for_discussion</th>\n      <th>country</th>\n    </tr>\n  </thead>\n  <tbody>\n    <tr>\n      <th>1</th>\n      <td>78</td>\n      <td>male</td>\n      <td>NaN</td>\n      <td>NaN</td>\n      <td>21.02.2020</td>\n      <td>NaN</td>\n      <td>False</td>\n      <td>NaN</td>\n      <td>https://www.corriere.it/cronache/20_febbraio_2...</td>\n      <td>death</td>\n      <td>22.02.2020</td>\n      <td>NaN</td>\n      <td>Italy</td>\n    </tr>\n    <tr>\n      <th>2</th>\n      <td>61</td>\n      <td>female</td>\n      <td>NaN</td>\n      <td>NaN</td>\n      <td>14.02.2020</td>\n      <td>NaN</td>\n      <td>False</td>\n      <td>NaN</td>\n      <td>https://www.channelnewsasia.com/news/singapore...</td>\n      <td>discharge</td>\n      <td>17.02.2020</td>\n      <td>NaN</td>\n      <td>Singapore</td>\n    </tr>\n    <tr>\n      <th>27</th>\n      <td>66</td>\n      <td>male</td>\n      <td>NaN</td>\n      <td>NaN</td>\n      <td>07.02.2020</td>\n      <td>NaN</td>\n      <td>False</td>\n      <td>NaN</td>\n      <td>https://m.weibo.cn/detail/4469604653292027</td>\n      <td>NaN</td>\n      <td>NaN</td>\n      <td>https://www.google.com/maps/place/Zhenlai+Coun...</td>\n      <td>China</td>\n    </tr>\n    <tr>\n      <th>28</th>\n      <td>27</td>\n      <td>female</td>\n      <td>NaN</td>\n      <td>NaN</td>\n      <td>07.02.2020</td>\n      <td>NaN</td>\n      <td>False</td>\n      <td>NaN</td>\n      <td>https://m.weibo.cn/detail/4469604653292027</td>\n      <td>NaN</td>\n      <td>NaN</td>\n      <td>NaN</td>\n      <td>China</td>\n    </tr>\n    <tr>\n      <th>29</th>\n      <td>17</td>\n      <td>male</td>\n      <td>NaN</td>\n      <td>NaN</td>\n      <td>07.02.2020</td>\n      <td>NaN</td>\n      <td>False</td>\n      <td>NaN</td>\n      <td>https://m.weibo.cn/detail/4469604653292027</td>\n      <td>NaN</td>\n      <td>NaN</td>\n      <td>NaN</td>\n      <td>China</td>\n    </tr>\n  </tbody>\n</table>\n</div>"
     },
     "metadata": {},
     "output_type": "execute_result",
     "execution_count": 52
    }
   ],
   "source": [
    "# Creamos un nuevo DF solo con las columnas que nos sirven y fueron previamente limpiadas por edad.\n",
    "df_clean = df_preProcessing[[\n",
    "     'age', 'sex', 'date_onset_symptoms', \n",
    "     'date_admission_hospital', 'date_confirmation', \n",
    "     'symptoms', 'chronic_disease_binary', 'chronic_disease', \n",
    "     'source', 'outcome', 'date_death_or_discharge', 'notes_for_discussion', 'country'\n",
    "     ]]\n",
    "\n",
    "df_clean.head()\n"
   ],
   "metadata": {
    "collapsed": false,
    "pycharm": {
     "name": "#%%\n",
     "is_executing": false
    }
   }
  },
  {
   "cell_type": "code",
   "execution_count": 53,
   "outputs": [
    {
     "name": "stdout",
     "text": [
      "age , 0\n",
      "sex , 1756\n",
      "date_onset_symptoms , 78534\n",
      "date_admission_hospital , 240989\n",
      "date_confirmation , 218\n",
      "symptoms , 241499\n",
      "chronic_disease_binary , 0\n",
      "chronic_disease , 242915\n",
      "source , 154102\n",
      "outcome , 240552\n",
      "date_death_or_discharge , 242588\n",
      "notes_for_discussion , 242827\n",
      "country , 44\n"
     ],
     "output_type": "stream"
    }
   ],
   "source": [
    "# Analizamos las filas con datos nulos que quedan en el dataset, en la edad no quedan nulos\n",
    "obj = df_clean.isnull().sum()\n",
    "for key, value in obj.iteritems():\n",
    "    print(key, \",\", value)"
   ],
   "metadata": {
    "collapsed": false,
    "pycharm": {
     "name": "#%%\n",
     "is_executing": false
    }
   }
  },
  {
   "cell_type": "markdown",
   "source": [
    "### 1) Análisis, limpieza y agrupación de datos por Edad\n"
   ],
   "metadata": {
    "collapsed": false
   }
  },
  {
   "cell_type": "code",
   "source": [
    "# Cuenta total de registros por edad\n",
    "ageTotalCount = df_clean.age.count()\n",
    "print(\"Existen {} registros de edad\".format(ageTotalCount))\n"
   ],
   "metadata": {
    "collapsed": false,
    "pycharm": {
     "name": "#%% \n",
     "is_executing": false
    }
   },
   "execution_count": 54,
   "outputs": [
    {
     "name": "stdout",
     "text": [
      "Existen 243077 registros de edad\n"
     ],
     "output_type": "stream"
    }
   ]
  },
  {
   "cell_type": "code",
   "execution_count": 55,
   "outputs": [
    {
     "name": "stdout",
     "text": [
      "ver edad\n"
     ],
     "output_type": "stream"
    }
   ],
   "source": [
    "# Visualización de formatos de edad\n",
    "# df_clean.age.unique()\n",
    "print(\"ver edad\")"
   ],
   "metadata": {
    "collapsed": false,
    "pycharm": {
     "name": "#%%\n",
     "is_executing": false
    }
   }
  },
  {
   "cell_type": "code",
   "execution_count": 56,
   "outputs": [
    {
     "data": {
      "text/plain": "   age     sex date_onset_symptoms date_admission_hospital date_confirmation  \\\n1   78    male                 NaN                     NaN        21.02.2020   \n2   61  female                 NaN                     NaN        14.02.2020   \n27  66    male                 NaN                     NaN        07.02.2020   \n28  27  female                 NaN                     NaN        07.02.2020   \n29  17    male                 NaN                     NaN        07.02.2020   \n\n   symptoms  chronic_disease_binary chronic_disease  \\\n1       NaN                   False             NaN   \n2       NaN                   False             NaN   \n27      NaN                   False             NaN   \n28      NaN                   False             NaN   \n29      NaN                   False             NaN   \n\n                                               source    outcome  \\\n1   https://www.corriere.it/cronache/20_febbraio_2...      death   \n2   https://www.channelnewsasia.com/news/singapore...  discharge   \n27         https://m.weibo.cn/detail/4469604653292027        NaN   \n28         https://m.weibo.cn/detail/4469604653292027        NaN   \n29         https://m.weibo.cn/detail/4469604653292027        NaN   \n\n   date_death_or_discharge                               notes_for_discussion  \\\n1               22.02.2020                                                NaN   \n2               17.02.2020                                                NaN   \n27                     NaN  https://www.google.com/maps/place/Zhenlai+Coun...   \n28                     NaN                                                NaN   \n29                     NaN                                                NaN   \n\n      country  \n1       Italy  \n2   Singapore  \n27      China  \n28      China  \n29      China  ",
      "text/html": "<div>\n<style scoped>\n    .dataframe tbody tr th:only-of-type {\n        vertical-align: middle;\n    }\n\n    .dataframe tbody tr th {\n        vertical-align: top;\n    }\n\n    .dataframe thead th {\n        text-align: right;\n    }\n</style>\n<table border=\"1\" class=\"dataframe\">\n  <thead>\n    <tr style=\"text-align: right;\">\n      <th></th>\n      <th>age</th>\n      <th>sex</th>\n      <th>date_onset_symptoms</th>\n      <th>date_admission_hospital</th>\n      <th>date_confirmation</th>\n      <th>symptoms</th>\n      <th>chronic_disease_binary</th>\n      <th>chronic_disease</th>\n      <th>source</th>\n      <th>outcome</th>\n      <th>date_death_or_discharge</th>\n      <th>notes_for_discussion</th>\n      <th>country</th>\n    </tr>\n  </thead>\n  <tbody>\n    <tr>\n      <th>1</th>\n      <td>78</td>\n      <td>male</td>\n      <td>NaN</td>\n      <td>NaN</td>\n      <td>21.02.2020</td>\n      <td>NaN</td>\n      <td>False</td>\n      <td>NaN</td>\n      <td>https://www.corriere.it/cronache/20_febbraio_2...</td>\n      <td>death</td>\n      <td>22.02.2020</td>\n      <td>NaN</td>\n      <td>Italy</td>\n    </tr>\n    <tr>\n      <th>2</th>\n      <td>61</td>\n      <td>female</td>\n      <td>NaN</td>\n      <td>NaN</td>\n      <td>14.02.2020</td>\n      <td>NaN</td>\n      <td>False</td>\n      <td>NaN</td>\n      <td>https://www.channelnewsasia.com/news/singapore...</td>\n      <td>discharge</td>\n      <td>17.02.2020</td>\n      <td>NaN</td>\n      <td>Singapore</td>\n    </tr>\n    <tr>\n      <th>27</th>\n      <td>66</td>\n      <td>male</td>\n      <td>NaN</td>\n      <td>NaN</td>\n      <td>07.02.2020</td>\n      <td>NaN</td>\n      <td>False</td>\n      <td>NaN</td>\n      <td>https://m.weibo.cn/detail/4469604653292027</td>\n      <td>NaN</td>\n      <td>NaN</td>\n      <td>https://www.google.com/maps/place/Zhenlai+Coun...</td>\n      <td>China</td>\n    </tr>\n    <tr>\n      <th>28</th>\n      <td>27</td>\n      <td>female</td>\n      <td>NaN</td>\n      <td>NaN</td>\n      <td>07.02.2020</td>\n      <td>NaN</td>\n      <td>False</td>\n      <td>NaN</td>\n      <td>https://m.weibo.cn/detail/4469604653292027</td>\n      <td>NaN</td>\n      <td>NaN</td>\n      <td>NaN</td>\n      <td>China</td>\n    </tr>\n    <tr>\n      <th>29</th>\n      <td>17</td>\n      <td>male</td>\n      <td>NaN</td>\n      <td>NaN</td>\n      <td>07.02.2020</td>\n      <td>NaN</td>\n      <td>False</td>\n      <td>NaN</td>\n      <td>https://m.weibo.cn/detail/4469604653292027</td>\n      <td>NaN</td>\n      <td>NaN</td>\n      <td>NaN</td>\n      <td>China</td>\n    </tr>\n  </tbody>\n</table>\n</div>"
     },
     "metadata": {},
     "output_type": "execute_result",
     "execution_count": 56
    }
   ],
   "source": [
    "# Visualización del DF sin nulos en la edad\n",
    "df_clean.head()\n"
   ],
   "metadata": {
    "collapsed": false,
    "pycharm": {
     "name": "#%%\n",
     "is_executing": false
    }
   }
  },
  {
   "cell_type": "code",
   "execution_count": 57,
   "outputs": [
    {
     "data": {
      "text/plain": "age                        243077\nsex                        241321\ndate_onset_symptoms        164543\ndate_admission_hospital      2088\ndate_confirmation          242859\nsymptoms                     1578\nchronic_disease_binary     243077\nchronic_disease               162\nsource                      88975\noutcome                      2525\ndate_death_or_discharge       489\nnotes_for_discussion          250\ncountry                    243033\ndtype: int64"
     },
     "metadata": {},
     "output_type": "execute_result",
     "execution_count": 57
    }
   ],
   "source": [
    "# Copia del DF sin nulos para modificarlo y poder trabajar las edades\n",
    "df_test = df_clean\n",
    "\n",
    "df_test.count()"
   ],
   "metadata": {
    "collapsed": false,
    "pycharm": {
     "name": "#%% \n",
     "is_executing": false
    }
   }
  },
  {
   "cell_type": "markdown",
   "source": [
    "### Implementar Regex para estandarizar la data\n",
    "#### Usar RegEX para validar los siguientes casos:\n",
    "\n",
    "* Numeros enteros, guardar como enteros         ^\\d(\\d?)+$\n",
    "* Rango de edades, obtener la media y guardar   ^\\d(\\d+)?\\s?[-]\\s?\\d(\\d+)?$\n",
    "* Numeros decimales, redondear y guardar        ^\\d(\\.\\d+)?$\n",
    "* Edades con signo + / -                        ^\\d\\d?[-]?[+]?$\n",
    "* Numeros y letras, obtener número y guardar    ^\\d\\d?\\s\\w+?$\n",
    "\n",
    "RegEx devuelve un arreglo con el valor que haga match con la expresión"
   ],
   "metadata": {
    "collapsed": false,
    "pycharm": {
     "name": "#%% md\n",
     "is_executing": false
    }
   }
  },
  {
   "cell_type": "code",
   "execution_count": 68,
   "outputs": [
    {
     "name": "stderr",
     "text": [
      "/usr/local/lib/python3.7/site-packages/ipykernel_launcher.py:42: SettingWithCopyWarning: \n",
      "A value is trying to be set on a copy of a slice from a DataFrame.\n",
      "Try using .loc[row_indexer,col_indexer] = value instead\n",
      "\n",
      "See the caveats in the documentation: https://pandas.pydata.org/pandas-docs/stable/user_guide/indexing.html#returning-a-view-versus-a-copy\n"
     ],
     "output_type": "stream"
    }
   ],
   "source": [
    "# Declaración de expresiones regulares\n",
    "ageInt = '^\\d(\\d?)+$'\n",
    "ageRange = '^\\d(\\d+)?\\s?[-]\\s?\\d(\\d+)?$'\n",
    "ageFloat = '^\\d(\\.\\d+)?$'\n",
    "ageSign = '^\\d\\d?[-]?[+]?$'\n",
    "ageText = '^\\d\\d?\\s\\w+?$'\n",
    "\n",
    "# Arreglo para guardar nueva lista de edades\n",
    "new_ages = []\n",
    "\n",
    "# Recorremos las edades para estandarizar la información\n",
    "for ages in df_test.age:\n",
    "    strAges = str(ages)\n",
    "    # RegEx Numeros enteros\n",
    "    if re.findall(ageInt, strAges):\n",
    "        new_ages.append(ages)\n",
    "    # RegEx Rango de numeros\n",
    "    elif re.findall(ageRange, strAges):\n",
    "        indexes = ages.split('-')\n",
    "        intIndexes = list(map(int, indexes))\n",
    "        medianIndex = np.median(intIndexes)\n",
    "        new_ages.append(int(medianIndex))\n",
    "    # RegEx Numeros flotantes\n",
    "    elif re.findall(ageFloat, strAges):\n",
    "        formattedAge = int(round(float(ages)))\n",
    "        new_ages.append(formattedAge)\n",
    "    # ReEx Edades con signos (+/-)\n",
    "    elif re.findall(ageSign, strAges):\n",
    "        ageSt = re.findall(r'\\d+', ages)\n",
    "        new_ages.append(int(ageSt[0]))\n",
    "    # Regex Edades con texto\n",
    "    elif re.findall(ageText, strAges):\n",
    "        monthAge = ages.split()\n",
    "        monthConversion = int(monthAge[0]) / 12\n",
    "        ageConverted = int(round(monthConversion))\n",
    "        new_ages.append(ageConverted)\n",
    "    else:\n",
    "        new_ages.append(\"ERROR\")\n",
    "        \n",
    "    \n",
    "# Agregamos una nueva columna al DF con la edades nuevas\n",
    "df_test[\"new_age\"] = new_ages"
   ],
   "metadata": {
    "collapsed": false,
    "pycharm": {
     "name": "#%%\n",
     "is_executing": false
    }
   }
  },
  {
   "cell_type": "code",
   "execution_count": 59,
   "outputs": [
    {
     "name": "stderr",
     "text": [
      "/usr/local/lib/python3.7/site-packages/pandas/core/generic.py:6245: SettingWithCopyWarning: \n",
      "A value is trying to be set on a copy of a slice from a DataFrame\n",
      "\n",
      "See the caveats in the documentation: https://pandas.pydata.org/pandas-docs/stable/user_guide/indexing.html#returning-a-view-versus-a-copy\n",
      "  self._update_inplace(new_data)\n"
     ],
     "output_type": "stream"
    },
    {
     "data": {
      "text/plain": "age                        False\nsex                        False\ndate_onset_symptoms        False\ndate_admission_hospital    False\ndate_confirmation          False\nsymptoms                   False\nchronic_disease_binary     False\nchronic_disease            False\nsource                     False\noutcome                    False\ndate_death_or_discharge    False\nnotes_for_discussion       False\ncountry                     True\nnew_age                    False\ndtype: bool"
     },
     "metadata": {},
     "output_type": "execute_result",
     "execution_count": 59
    }
   ],
   "source": [
    "# Reemplaza los datos nulos en la columna \"Country\" por el dato \"Other\" para poder separarlos\n",
    "df_test['country'].fillna(\"Other\", inplace=True)\n",
    "df_test.isin(['Other']).any()"
   ],
   "metadata": {
    "collapsed": false,
    "pycharm": {
     "name": "#%% \n",
     "is_executing": false
    }
   }
  },
  {
   "cell_type": "code",
   "execution_count": 60,
   "outputs": [
    {
     "name": "stderr",
     "text": [
      "/usr/local/lib/python3.7/site-packages/seaborn/categorical.py:3666: UserWarning: The `factorplot` function has been renamed to `catplot`. The original name will be removed in a future release. Please update your code. Note that the default `kind` in `factorplot` (`'point'`) has changed `'strip'` in `catplot`.\n",
      "  warnings.warn(msg)\n"
     ],
     "output_type": "stream"
    },
    {
     "data": {
      "text/plain": "<seaborn.axisgrid.FacetGrid at 0x138e67dd0>"
     },
     "metadata": {},
     "output_type": "execute_result",
     "execution_count": 60
    },
    {
     "data": {
      "text/plain": "<Figure size 1080x360 with 1 Axes>",
      "image/png": "[encoded data removed]"
     },
     "metadata": {},
     "output_type": "display_data"
    }
   ],
   "source": [
    "# Muestra la cantidad de contagios en hombres y mujeres\n",
    "sns.factorplot('sex',data=df_test,kind=\"count\", aspect=3)"
   ],
   "metadata": {
    "collapsed": false,
    "pycharm": {
     "name": "#%%\n",
     "is_executing": false
    }
   }
  },
  {
   "cell_type": "markdown",
   "source": [
    "### Agrupación de edades\n",
    "#### Se crearán grupos de edad con la cantidad de registros coincidentes, estos serán:\n",
    "\n",
    "* Niño: 0 - 8 años\n",
    "* Adolescente: 9 - 14 años\n",
    "* Joven: 15 - 18 años\n",
    "* Adulto: 19 - 40 años\n",
    "* Adulto Medio: 41 - 60 años\n",
    "* Adulto Mayor: 60-120 años\n"
   ],
   "metadata": {
    "collapsed": false,
    "pycharm": {
     "name": "#%% md\n"
    }
   }
  },
  {
   "cell_type": "code",
   "execution_count": 61,
   "outputs": [],
   "source": [
    "# Creamos segmentación de grupos etarios con sus respectivas edades\n",
    "gruposEtarios = [\n",
    "    {'Niño': [0, 8]},\n",
    "    {'Adolescente': [9, 14]},\n",
    "    {'Joven': [15, 18]},\n",
    "    {'Adulto': [19, 40]},\n",
    "    {'Adulto Medio': [41, 60]},\n",
    "    {'Adulto Mayor': [60, 120]}\n",
    "]\n",
    "\n",
    "# Inicializamos diccionario que tendrá el valor total de la cantidad por grupo\n",
    "cantidadGrupoEtario = {\n",
    "    'Niño': 0 ,\n",
    "    'Adolescente': 0 ,\n",
    "    'Joven': 0 ,\n",
    "    'Adulto': 0 ,\n",
    "    'Adulto Medio': 0 ,\n",
    "    'Adulto Mayor': 0 \n",
    "}"
   ],
   "metadata": {
    "collapsed": false,
    "pycharm": {
     "name": "#%%\n",
     "is_executing": false
    }
   }
  },
  {
   "cell_type": "code",
   "execution_count": 69,
   "outputs": [
    {
     "name": "stdout",
     "text": [
      "{'Niño': 2257, 'Adolescente': 4476, 'Joven': 512, 'Adulto': 59068, 'Adulto Medio': 92366, 'Adulto Mayor': 84747}\n"
     ],
     "output_type": "stream"
    }
   ],
   "source": [
    "# Recorremos datos para clasificar grupos y guardarlo en un nuevo diccionario\n",
    "df_edades = df_test.new_age\n",
    "\n",
    "for getAge in df_edades:\n",
    "    # Convertimos la edad a int\n",
    "    if getAge != 'ERROR':\n",
    "        currentAge = int(getAge)\n",
    "        for ageRange in gruposEtarios:\n",
    "            # Obtenemos el nombre del grupo etario y el rango (valores)\n",
    "            ageRangeName = list(ageRange)[0]\n",
    "            ageRangeValue = list(ageRange.values())[0]\n",
    "            # Verificamos que la edad calce en un grupo etario para sumarla al total\n",
    "            if ageRangeValue[0] <= currentAge <= ageRangeValue[1]:\n",
    "                # Obtenemos la cantidad actual del rango en el diccionario\n",
    "                dictActualValue = cantidadGrupoEtario.get(ageRangeName)\n",
    "                # Actualizar el objeto final con cada dato\n",
    "                cantidadGrupoEtario.update({ageRangeName: dictActualValue + 1})\n",
    "\n",
    "# Mostramos valor del diccionario actualizado   \n",
    "print(cantidadGrupoEtario)"
   ],
   "metadata": {
    "collapsed": false,
    "pycharm": {
     "name": "#%%\n",
     "is_executing": false
    }
   }
  },
  {
   "cell_type": "code",
   "execution_count": 67,
   "outputs": [],
   "source": [
    "# Export DF to excel\n",
    "# df_test.to_excel(\"reAged3.xlsx\") \n"
   ],
   "metadata": {
    "collapsed": false,
    "pycharm": {
     "name": "#%%\n",
     "is_executing": false
    }
   }
  }
 ],
 "metadata": {
  "kernelspec": {
   "display_name": "Python 3",
   "language": "python",
   "name": "python3"
  },
  "language_info": {
   "codemirror_mode": {
    "name": "ipython",
    "version": 2
   },
   "file_extension": ".py",
   "mimetype": "text/x-python",
   "name": "python",
   "nbconvert_exporter": "python",
   "pygments_lexer": "ipython2",
   "version": "2.7.6"
  },
  "pycharm": {
   "stem_cell": {
    "cell_type": "raw",
    "source": [],
    "metadata": {
     "collapsed": false
    }
   }
  }
 },
 "nbformat": 4,
 "nbformat_minor": 0
}